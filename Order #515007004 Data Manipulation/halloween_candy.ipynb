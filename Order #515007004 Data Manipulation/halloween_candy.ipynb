{
 "cells": [
  {
   "cell_type": "markdown",
   "metadata": {},
   "source": [
    "# DTSC 580: Data Manipulation\n",
    "\n",
    "## Assignment:  Halloween Candy\n",
    "\n",
    "### Name: \n",
    "\n",
    "## Overview\n",
    "\n",
    "In this assignment, your job will be to clean and wrangle data from a survey of Halloween candy to prepare it for a machine learning project. \n",
    "\n",
    "Once you have completed all the tasks in the notebook, save your notebook as `halloween_candy`, and verify that all the tests pass in CodeGrade.  \n",
    "\n",
    "For those of you that are more comfortable with using Pandas, I have also provided extra optional data analysis questions at the end of the assignment for more practice.\n",
    "\n",
    "## Data Set\n",
    "\n",
    "The data set that we will be using is the 2017 Halloween Candy Hierarchy data set as discussed in this [boingboing](https://boingboing.net/2017/10/30/the-2017-halloween-candy-hiera.html) article.  You can also read more about the data in the [Science Creative Quarterly](https://www.scq.ubc.ca/so-much-candy-data-seriously/).\n",
    "\n",
    "The following are the rating instructions from the survey:  \n",
    "\n",
    "> Basically, consider that feeling you get when you receive this item in your Halloween haul. Does it make you really happy (JOY)? Or is it something that you automatically place in the junk pile (DESPAIR)? MEH for indifference, and you can leave blank if you have no idea what the item is.\n",
    "\n",
    "Note that the original data set has been slightly altered from its original state, and if you wanted to perform any analysis for future projects, you would need to download the data directly from the links above.\n",
    "\n",
    "This data is a great example of a messy data set, especially since they allowed respondents to enter text for a number of the fields. Also, note that some of the comments in the file might be considered inappropriate to some readers but cleaning this type of data is normal in a lot of data science projects.\n",
    "\n",
    "## Note\n",
    "\n",
    "<u>Show Work</u>\n",
    "\n",
    "Remember that you must show your work.  Students submissions are spot checked manually throughout the term to verify that they are not hard coding the answer from looking only in the file or in CodeGrade's expected output.  If this is seen, the student's answer will be manually marked wrong and their grade will be changed to reflect this. \n",
    "\n",
    "For example, if the answer to Q1, the mean of a specific column, is 22:\n",
    "```\n",
    "# correct way\n",
    "Q1 = df['column_name'].mean()\n",
    "\n",
    "# incorrect way\n",
    "Q1 = 22 \n",
    "```\n",
    "\n",
    "## Our End Goal\n",
    "\n",
    "Our end goal for this project is to clean the data so that we could then create a machine learning model. We want to see if we are able to predict a person's gender based purely on their candy preferences. Although, you will not be creating a model for this assignment, only cleaning the data. The results of the models that I used after cleaning the data are provided at the end of this notebook.\n",
    "\n",
    "## Initial Import & Exploration"
   ]
  },
  {
   "cell_type": "code",
   "execution_count": 411,
   "metadata": {},
   "outputs": [],
   "source": [
    "# initial imports\n",
    "import pandas as pd\n",
    "import numpy as np\n",
    "\n",
    "# Do not change this option; This allows the CodeGrade auto grading to function correctly\n",
    "pd.set_option('display.max_columns', 20)"
   ]
  },
  {
   "cell_type": "markdown",
   "metadata": {},
   "source": [
    "Let's start by importing our data and creating a DataFrame called `candy`.  We need to include `encoding='iso-8859-1'` during the import because there are special characters in the data that Pandas doesn't recognize. This happens a lot when attempting to import data where the public is able to input answers, especially if there are foreign language characters included. The normal encoding for Pandas is `utf-8`, so changing the encoding allows Pandas to recognize those special characters. \n",
    "\n",
    "Run the following code, with the encoding argument, and it should import correctly."
   ]
  },
  {
   "cell_type": "code",
   "execution_count": 412,
   "metadata": {},
   "outputs": [],
   "source": [
    "# read_csv with iso-8859-1 encoding; using latin-1 would also work here\n",
    "candy_full = pd.read_csv('candy.csv', encoding='iso-8859-1')\n",
    "\n",
    "# copy to new DF so that we can have a copy of the original import if needed\n",
    "candy = candy_full.copy()"
   ]
  },
  {
   "cell_type": "markdown",
   "metadata": {},
   "source": [
    "Let's take a brief look at the data by using `head()`."
   ]
  },
  {
   "cell_type": "code",
   "execution_count": 413,
   "metadata": {},
   "outputs": [
    {
     "data": {
      "text/html": [
       "<div>\n",
       "<style scoped>\n",
       "    .dataframe tbody tr th:only-of-type {\n",
       "        vertical-align: middle;\n",
       "    }\n",
       "\n",
       "    .dataframe tbody tr th {\n",
       "        vertical-align: top;\n",
       "    }\n",
       "\n",
       "    .dataframe thead th {\n",
       "        text-align: right;\n",
       "    }\n",
       "</style>\n",
       "<table border=\"1\" class=\"dataframe\">\n",
       "  <thead>\n",
       "    <tr style=\"text-align: right;\">\n",
       "      <th></th>\n",
       "      <th>Internal ID</th>\n",
       "      <th>Q1: GOING OUT?</th>\n",
       "      <th>Q2: GENDER</th>\n",
       "      <th>Q3: AGE</th>\n",
       "      <th>Q4: COUNTRY</th>\n",
       "      <th>Q5: STATE, PROVINCE, COUNTY, ETC</th>\n",
       "      <th>Q6 | 100 Grand Bar</th>\n",
       "      <th>Q6 | Anonymous brown globs that come in black and orange wrappers\\t(a.k.a. Mary Janes)</th>\n",
       "      <th>Q6 | Any full-sized candy bar</th>\n",
       "      <th>Q6 | Black Jacks</th>\n",
       "      <th>...</th>\n",
       "      <th>Q8: DESPAIR OTHER</th>\n",
       "      <th>Q9: OTHER COMMENTS</th>\n",
       "      <th>Q10: DRESS</th>\n",
       "      <th>Unnamed: 113</th>\n",
       "      <th>Q11: DAY</th>\n",
       "      <th>Q12: MEDIA [Daily Dish]</th>\n",
       "      <th>Q12: MEDIA [Science]</th>\n",
       "      <th>Q12: MEDIA [ESPN]</th>\n",
       "      <th>Q12: MEDIA [Yahoo]</th>\n",
       "      <th>Click Coordinates (x, y)</th>\n",
       "    </tr>\n",
       "  </thead>\n",
       "  <tbody>\n",
       "    <tr>\n",
       "      <th>0</th>\n",
       "      <td>90258773</td>\n",
       "      <td>NaN</td>\n",
       "      <td>NaN</td>\n",
       "      <td>NaN</td>\n",
       "      <td>NaN</td>\n",
       "      <td>NaN</td>\n",
       "      <td>NaN</td>\n",
       "      <td>NaN</td>\n",
       "      <td>NaN</td>\n",
       "      <td>NaN</td>\n",
       "      <td>...</td>\n",
       "      <td>NaN</td>\n",
       "      <td>NaN</td>\n",
       "      <td>NaN</td>\n",
       "      <td>NaN</td>\n",
       "      <td>NaN</td>\n",
       "      <td>NaN</td>\n",
       "      <td>NaN</td>\n",
       "      <td>NaN</td>\n",
       "      <td>NaN</td>\n",
       "      <td>NaN</td>\n",
       "    </tr>\n",
       "    <tr>\n",
       "      <th>1</th>\n",
       "      <td>90272821</td>\n",
       "      <td>No</td>\n",
       "      <td>Male</td>\n",
       "      <td>44</td>\n",
       "      <td>USA</td>\n",
       "      <td>NM</td>\n",
       "      <td>MEH</td>\n",
       "      <td>DESPAIR</td>\n",
       "      <td>JOY</td>\n",
       "      <td>MEH</td>\n",
       "      <td>...</td>\n",
       "      <td>NaN</td>\n",
       "      <td>Bottom line is Twix is really the only candy w...</td>\n",
       "      <td>White and gold</td>\n",
       "      <td>NaN</td>\n",
       "      <td>Sunday</td>\n",
       "      <td>NaN</td>\n",
       "      <td>1.0</td>\n",
       "      <td>NaN</td>\n",
       "      <td>NaN</td>\n",
       "      <td>(84, 25)</td>\n",
       "    </tr>\n",
       "    <tr>\n",
       "      <th>2</th>\n",
       "      <td>90272829</td>\n",
       "      <td>NaN</td>\n",
       "      <td>Male</td>\n",
       "      <td>49</td>\n",
       "      <td>USA</td>\n",
       "      <td>Virginia</td>\n",
       "      <td>NaN</td>\n",
       "      <td>NaN</td>\n",
       "      <td>NaN</td>\n",
       "      <td>NaN</td>\n",
       "      <td>...</td>\n",
       "      <td>NaN</td>\n",
       "      <td>NaN</td>\n",
       "      <td>NaN</td>\n",
       "      <td>NaN</td>\n",
       "      <td>NaN</td>\n",
       "      <td>NaN</td>\n",
       "      <td>NaN</td>\n",
       "      <td>NaN</td>\n",
       "      <td>NaN</td>\n",
       "      <td>NaN</td>\n",
       "    </tr>\n",
       "    <tr>\n",
       "      <th>3</th>\n",
       "      <td>90272840</td>\n",
       "      <td>No</td>\n",
       "      <td>Male</td>\n",
       "      <td>40</td>\n",
       "      <td>us</td>\n",
       "      <td>or</td>\n",
       "      <td>MEH</td>\n",
       "      <td>DESPAIR</td>\n",
       "      <td>JOY</td>\n",
       "      <td>MEH</td>\n",
       "      <td>...</td>\n",
       "      <td>NaN</td>\n",
       "      <td>Raisins can go to hell</td>\n",
       "      <td>White and gold</td>\n",
       "      <td>NaN</td>\n",
       "      <td>Sunday</td>\n",
       "      <td>NaN</td>\n",
       "      <td>1.0</td>\n",
       "      <td>NaN</td>\n",
       "      <td>NaN</td>\n",
       "      <td>(75, 23)</td>\n",
       "    </tr>\n",
       "    <tr>\n",
       "      <th>4</th>\n",
       "      <td>90272841</td>\n",
       "      <td>No</td>\n",
       "      <td>Male</td>\n",
       "      <td>23</td>\n",
       "      <td>usa</td>\n",
       "      <td>exton pa</td>\n",
       "      <td>JOY</td>\n",
       "      <td>DESPAIR</td>\n",
       "      <td>JOY</td>\n",
       "      <td>DESPAIR</td>\n",
       "      <td>...</td>\n",
       "      <td>NaN</td>\n",
       "      <td>NaN</td>\n",
       "      <td>White and gold</td>\n",
       "      <td>NaN</td>\n",
       "      <td>Friday</td>\n",
       "      <td>NaN</td>\n",
       "      <td>1.0</td>\n",
       "      <td>NaN</td>\n",
       "      <td>NaN</td>\n",
       "      <td>(70, 10)</td>\n",
       "    </tr>\n",
       "  </tbody>\n",
       "</table>\n",
       "<p>5 rows × 120 columns</p>\n",
       "</div>"
      ],
      "text/plain": [
       "   Internal ID Q1: GOING OUT? Q2: GENDER Q3: AGE Q4: COUNTRY  \\\n",
       "0     90258773            NaN        NaN     NaN         NaN   \n",
       "1     90272821             No       Male      44        USA    \n",
       "2     90272829            NaN       Male      49         USA   \n",
       "3     90272840             No       Male      40          us   \n",
       "4     90272841             No       Male      23         usa   \n",
       "\n",
       "  Q5: STATE, PROVINCE, COUNTY, ETC Q6 | 100 Grand Bar  \\\n",
       "0                              NaN                NaN   \n",
       "1                               NM                MEH   \n",
       "2                         Virginia                NaN   \n",
       "3                               or                MEH   \n",
       "4                         exton pa                JOY   \n",
       "\n",
       "  Q6 | Anonymous brown globs that come in black and orange wrappers\\t(a.k.a. Mary Janes)  \\\n",
       "0                                                NaN                                       \n",
       "1                                            DESPAIR                                       \n",
       "2                                                NaN                                       \n",
       "3                                            DESPAIR                                       \n",
       "4                                            DESPAIR                                       \n",
       "\n",
       "  Q6 | Any full-sized candy bar Q6 | Black Jacks  ... Q8: DESPAIR OTHER  \\\n",
       "0                           NaN              NaN  ...               NaN   \n",
       "1                           JOY              MEH  ...               NaN   \n",
       "2                           NaN              NaN  ...               NaN   \n",
       "3                           JOY              MEH  ...               NaN   \n",
       "4                           JOY          DESPAIR  ...               NaN   \n",
       "\n",
       "                                  Q9: OTHER COMMENTS      Q10: DRESS  \\\n",
       "0                                                NaN             NaN   \n",
       "1  Bottom line is Twix is really the only candy w...  White and gold   \n",
       "2                                                NaN             NaN   \n",
       "3                             Raisins can go to hell  White and gold   \n",
       "4                                                NaN  White and gold   \n",
       "\n",
       "  Unnamed: 113 Q11: DAY Q12: MEDIA [Daily Dish] Q12: MEDIA [Science]  \\\n",
       "0          NaN      NaN                     NaN                  NaN   \n",
       "1          NaN   Sunday                     NaN                  1.0   \n",
       "2          NaN      NaN                     NaN                  NaN   \n",
       "3          NaN   Sunday                     NaN                  1.0   \n",
       "4          NaN   Friday                     NaN                  1.0   \n",
       "\n",
       "  Q12: MEDIA [ESPN] Q12: MEDIA [Yahoo] Click Coordinates (x, y)  \n",
       "0               NaN                NaN                      NaN  \n",
       "1               NaN                NaN                 (84, 25)  \n",
       "2               NaN                NaN                      NaN  \n",
       "3               NaN                NaN                 (75, 23)  \n",
       "4               NaN                NaN                 (70, 10)  \n",
       "\n",
       "[5 rows x 120 columns]"
      ]
     },
     "execution_count": 413,
     "metadata": {},
     "output_type": "execute_result"
    }
   ],
   "source": [
    "# first five rows\n",
    "candy.head()"
   ]
  },
  {
   "cell_type": "markdown",
   "metadata": {},
   "source": [
    "Next, run the following code to see information about the DataFrame."
   ]
  },
  {
   "cell_type": "code",
   "execution_count": 414,
   "metadata": {},
   "outputs": [
    {
     "name": "stdout",
     "output_type": "stream",
     "text": [
      "<class 'pandas.core.frame.DataFrame'>\n",
      "RangeIndex: 2479 entries, 0 to 2478\n",
      "Columns: 120 entries, Internal ID to Click Coordinates (x, y)\n",
      "dtypes: float64(4), int64(1), object(115)\n",
      "memory usage: 2.3+ MB\n"
     ]
    }
   ],
   "source": [
    "# check info about the DataFrame\n",
    "candy.info()"
   ]
  },
  {
   "cell_type": "markdown",
   "metadata": {},
   "source": [
    "Notice that this did not print the columns as you might be used to seeing. According to the Pandas documentation:  \"If the DataFrame has more than max_cols columns, the truncated output is used. By default, the setting in pandas.options.display.max_info_columns is used.\" \n",
    "\n",
    "We can make the columns display by setting the `max_cols` argument equal to the number of columns in the data set."
   ]
  },
  {
   "cell_type": "code",
   "execution_count": 415,
   "metadata": {},
   "outputs": [
    {
     "name": "stdout",
     "output_type": "stream",
     "text": [
      "<class 'pandas.core.frame.DataFrame'>\n",
      "RangeIndex: 2479 entries, 0 to 2478\n",
      "Data columns (total 120 columns):\n",
      " #    Column                                                                                 Non-Null Count  Dtype  \n",
      "---   ------                                                                                 --------------  -----  \n",
      " 0    Internal ID                                                                            2479 non-null   int64  \n",
      " 1    Q1: GOING OUT?                                                                         2368 non-null   object \n",
      " 2    Q2: GENDER                                                                             2437 non-null   object \n",
      " 3    Q3: AGE                                                                                2394 non-null   object \n",
      " 4    Q4: COUNTRY                                                                            2414 non-null   object \n",
      " 5    Q5: STATE, PROVINCE, COUNTY, ETC                                                       2377 non-null   object \n",
      " 6    Q6 | 100 Grand Bar                                                                     1728 non-null   object \n",
      " 7    Q6 | Anonymous brown globs that come in black and orange wrappers\t(a.k.a. Mary Janes)  1741 non-null   object \n",
      " 8    Q6 | Any full-sized candy bar                                                          1803 non-null   object \n",
      " 9    Q6 | Black Jacks                                                                       1517 non-null   object \n",
      " 10   Q6 | Bonkers (the candy)                                                               1482 non-null   object \n",
      " 11   Q6 | Bonkers (the board game)                                                          1469 non-null   object \n",
      " 12   Q6 | Bottle Caps                                                                       1709 non-null   object \n",
      " 13   Q6 | Box'o'Raisins                                                                     1787 non-null   object \n",
      " 14   Q6 | Broken glow stick                                                                 1767 non-null   object \n",
      " 15   Q6 | Butterfinger                                                                      1793 non-null   object \n",
      " 16   Q6 | Cadbury Creme Eggs                                                                1792 non-null   object \n",
      " 17   Q6 | Candy Corn                                                                        1796 non-null   object \n",
      " 18   Q6 | Candy that is clearly just the stuff given out for free at restaurants            1784 non-null   object \n",
      " 19   Q6 | Caramellos                                                                        1723 non-null   object \n",
      " 20   Q6 | Cash, or other forms of legal tender                                              1795 non-null   object \n",
      " 21   Q6 | Chardonnay                                                                        1732 non-null   object \n",
      " 22   Q6 | Chick-o-Sticks (we donÕt know what that is)                                       1528 non-null   object \n",
      " 23   Q6 | Chiclets                                                                          1764 non-null   object \n",
      " 24   Q6 | Coffee Crisp                                                                      1621 non-null   object \n",
      " 25   Q6 | Creepy Religious comics/Chick Tracts                                              1771 non-null   object \n",
      " 26   Q6 | Dental paraphenalia                                                               1783 non-null   object \n",
      " 27   Q6 | Dots                                                                              1746 non-null   object \n",
      " 28   Q6 | Dove Bars                                                                         1773 non-null   object \n",
      " 29   Q6 | Fuzzy Peaches                                                                     1652 non-null   object \n",
      " 30   Q6 | Generic Brand Acetaminophen                                                       1744 non-null   object \n",
      " 31   Q6 | Glow sticks                                                                       1778 non-null   object \n",
      " 32   Q6 | Goo Goo Clusters                                                                  1595 non-null   object \n",
      " 33   Q6 | Good N' Plenty                                                                    1741 non-null   object \n",
      " 34   Q6 | Gum from baseball cards                                                           1759 non-null   object \n",
      " 35   Q6 | Gummy Bears straight up                                                           1778 non-null   object \n",
      " 36   Q6 | Hard Candy                                                                        1780 non-null   object \n",
      " 37   Q6 | Healthy Fruit                                                                     1781 non-null   object \n",
      " 38   Q6 | Heath Bar                                                                         1763 non-null   object \n",
      " 39   Q6 | Hershey's Dark Chocolate                                                          1802 non-null   object \n",
      " 40   Q6 | HersheyÕs Milk Chocolate                                                          1803 non-null   object \n",
      " 41   Q6 | Hershey's Kisses                                                                  1797 non-null   object \n",
      " 42   Q6 | Hugs (actual physical hugs)                                                       1762 non-null   object \n",
      " 43   Q6 | Jolly Rancher (bad flavor)                                                        1781 non-null   object \n",
      " 44   Q6 | Jolly Ranchers (good flavor)                                                      1780 non-null   object \n",
      " 45   Q6 | JoyJoy (Mit Iodine!)                                                              1449 non-null   object \n",
      " 46   Q6 | Junior Mints                                                                      1777 non-null   object \n",
      " 47   Q6 | Senior Mints                                                                      1532 non-null   object \n",
      " 48   Q6 | Kale smoothie                                                                     1731 non-null   object \n",
      " 49   Q6 | Kinder Happy Hippo                                                                1528 non-null   object \n",
      " 50   Q6 | Kit Kat                                                                           1801 non-null   object \n",
      " 51   Q6 | LaffyTaffy                                                                        1739 non-null   object \n",
      " 52   Q6 | LemonHeads                                                                        1745 non-null   object \n",
      " 53   Q6 | Licorice (not black)                                                              1789 non-null   object \n",
      " 54   Q6 | Licorice (yes black)                                                              1790 non-null   object \n",
      " 55   Q6 | Lindt Truffle                                                                     1757 non-null   object \n",
      " 56   Q6 | Lollipops                                                                         1784 non-null   object \n",
      " 57   Q6 | Mars                                                                              1750 non-null   object \n",
      " 58   Q6 | Maynards                                                                          1450 non-null   object \n",
      " 59   Q6 | Mike and Ike                                                                      1746 non-null   object \n",
      " 60   Q6 | Milk Duds                                                                         1782 non-null   object \n",
      " 61   Q6 | Milky Way                                                                         1787 non-null   object \n",
      " 62   Q6 | Regular M&Ms                                                                      1800 non-null   object \n",
      " 63   Q6 | Peanut M&MÕs                                                                      1804 non-null   object \n",
      " 64   Q6 | Blue M&M's                                                                        1748 non-null   object \n",
      " 65   Q6 | Red M&M's                                                                         1746 non-null   object \n",
      " 66   Q6 | Green Party M&M's                                                                 1711 non-null   object \n",
      " 67   Q6 | Independent M&M's                                                                 1662 non-null   object \n",
      " 68   Q6 | Abstained from M&M'ing.                                                           1532 non-null   object \n",
      " 69   Q6 | Minibags of chips                                                                 1751 non-null   object \n",
      " 70   Q6 | Mint Kisses                                                                       1699 non-null   object \n",
      " 71   Q6 | Mint Juleps                                                                       1664 non-null   object \n",
      " 72   Q6 | Mr. Goodbar                                                                       1735 non-null   object \n",
      " 73   Q6 | Necco Wafers                                                                      1731 non-null   object \n",
      " 74   Q6 | Nerds                                                                             1752 non-null   object \n",
      " 75   Q6 | Nestle Crunch                                                                     1777 non-null   object \n",
      " 76   Q6 | Now'n'Laters                                                                      1657 non-null   object \n",
      " 77   Q6 | Peeps                                                                             1765 non-null   object \n",
      " 78   Q6 | Pencils                                                                           1766 non-null   object \n",
      " 79   Q6 | Pixy Stix                                                                         1753 non-null   object \n",
      " 80   Q6 | Real Housewives of Orange County Season 9 Blue-Ray                                1722 non-null   object \n",
      " 81   Q6 | ReeseÕs Peanut Butter Cups                                                        1796 non-null   object \n",
      " 82   Q6 | Reese's Pieces                                                                    1784 non-null   object \n",
      " 83   Q6 | Reggie Jackson Bar                                                                1460 non-null   object \n",
      " 84   Q6 | Rolos                                                                             1761 non-null   object \n",
      " 85   Q6 | Sandwich-sized bags filled with BooBerry Crunch                                   1699 non-null   object \n",
      " 86   Q6 | Skittles                                                                          1769 non-null   object \n",
      " 87   Q6 | Smarties (American)                                                               1750 non-null   object \n",
      " 88   Q6 | Smarties (Commonwealth)                                                           1573 non-null   object \n",
      " 89   Q6 | Snickers                                                                          1785 non-null   object \n",
      " 90   Q6 | Sourpatch Kids (i.e. abominations of nature)                                      1737 non-null   object \n",
      " 91   Q6 | Spotted Dick                                                                      1593 non-null   object \n",
      " 92   Q6 | Starburst                                                                         1782 non-null   object \n",
      " 93   Q6 | Sweet Tarts                                                                       1767 non-null   object \n",
      " 94   Q6 | Swedish Fish                                                                      1760 non-null   object \n",
      " 95   Q6 | Sweetums (a friend to diabetes)                                                   1472 non-null   object \n",
      " 96   Q6 | Take 5                                                                            1557 non-null   object \n",
      " 97   Q6 | Tic Tacs                                                                          1761 non-null   object \n",
      " 98   Q6 | Those odd marshmallow circus peanut things                                        1739 non-null   object \n",
      " 99   Q6 | Three Musketeers                                                                  1767 non-null   object \n",
      " 100  Q6 | Tolberone something or other                                                      1769 non-null   object \n",
      " 101  Q6 | Trail Mix                                                                         1767 non-null   object \n",
      " 102  Q6 | Twix                                                                              1785 non-null   object \n",
      " 103  Q6 | Vials of pure high fructose corn syrup, for main-lining into your vein            1683 non-null   object \n",
      " 104  Q6 | Vicodin                                                                           1686 non-null   object \n",
      " 105  Q6 | Whatchamacallit Bars                                                              1652 non-null   object \n",
      " 106  Q6 | White Bread                                                                       1718 non-null   object \n",
      " 107  Q6 | Whole Wheat anything                                                              1728 non-null   object \n",
      " 108  Q6 | York Peppermint Patties                                                           1770 non-null   object \n",
      " 109  Q7: JOY OTHER                                                                          917 non-null    object \n",
      " 110  Q8: DESPAIR OTHER                                                                      723 non-null    object \n",
      " 111  Q9: OTHER COMMENTS                                                                     389 non-null    object \n",
      " 112  Q10: DRESS                                                                             1730 non-null   object \n",
      " 113  Unnamed: 113                                                                           9 non-null      object \n",
      " 114  Q11: DAY                                                                               1750 non-null   object \n",
      " 115  Q12: MEDIA [Daily Dish]                                                                85 non-null     float64\n",
      " 116  Q12: MEDIA [Science]                                                                   1376 non-null   float64\n",
      " 117  Q12: MEDIA [ESPN]                                                                      99 non-null     float64\n",
      " 118  Q12: MEDIA [Yahoo]                                                                     67 non-null     float64\n",
      " 119  Click Coordinates (x, y)                                                               1619 non-null   object \n",
      "dtypes: float64(4), int64(1), object(115)\n",
      "memory usage: 2.3+ MB\n"
     ]
    }
   ],
   "source": [
    "# check info, set max_cols\n",
    "candy.info(max_cols=120)"
   ]
  },
  {
   "cell_type": "markdown",
   "metadata": {},
   "source": [
    "Of course, if you are just looking for the column names, you can just use a simple `for` loop."
   ]
  },
  {
   "cell_type": "code",
   "execution_count": 416,
   "metadata": {},
   "outputs": [
    {
     "name": "stdout",
     "output_type": "stream",
     "text": [
      "Internal ID\n",
      "Q1: GOING OUT?\n",
      "Q2: GENDER\n",
      "Q3: AGE\n",
      "Q4: COUNTRY\n",
      "Q5: STATE, PROVINCE, COUNTY, ETC\n",
      "Q6 | 100 Grand Bar\n",
      "Q6 | Anonymous brown globs that come in black and orange wrappers\t(a.k.a. Mary Janes)\n",
      "Q6 | Any full-sized candy bar\n",
      "Q6 | Black Jacks\n",
      "Q6 | Bonkers (the candy)\n",
      "Q6 | Bonkers (the board game)\n",
      "Q6 | Bottle Caps\n",
      "Q6 | Box'o'Raisins\n",
      "Q6 | Broken glow stick\n",
      "Q6 | Butterfinger\n",
      "Q6 | Cadbury Creme Eggs\n",
      "Q6 | Candy Corn\n",
      "Q6 | Candy that is clearly just the stuff given out for free at restaurants\n",
      "Q6 | Caramellos\n",
      "Q6 | Cash, or other forms of legal tender\n",
      "Q6 | Chardonnay\n",
      "Q6 | Chick-o-Sticks (we donÕt know what that is)\n",
      "Q6 | Chiclets\n",
      "Q6 | Coffee Crisp\n",
      "Q6 | Creepy Religious comics/Chick Tracts\n",
      "Q6 | Dental paraphenalia\n",
      "Q6 | Dots\n",
      "Q6 | Dove Bars\n",
      "Q6 | Fuzzy Peaches\n",
      "Q6 | Generic Brand Acetaminophen\n",
      "Q6 | Glow sticks\n",
      "Q6 | Goo Goo Clusters\n",
      "Q6 | Good N' Plenty\n",
      "Q6 | Gum from baseball cards\n",
      "Q6 | Gummy Bears straight up\n",
      "Q6 | Hard Candy\n",
      "Q6 | Healthy Fruit\n",
      "Q6 | Heath Bar\n",
      "Q6 | Hershey's Dark Chocolate\n",
      "Q6 | HersheyÕs Milk Chocolate\n",
      "Q6 | Hershey's Kisses\n",
      "Q6 | Hugs (actual physical hugs)\n",
      "Q6 | Jolly Rancher (bad flavor)\n",
      "Q6 | Jolly Ranchers (good flavor)\n",
      "Q6 | JoyJoy (Mit Iodine!)\n",
      "Q6 | Junior Mints\n",
      "Q6 | Senior Mints\n",
      "Q6 | Kale smoothie\n",
      "Q6 | Kinder Happy Hippo\n",
      "Q6 | Kit Kat\n",
      "Q6 | LaffyTaffy\n",
      "Q6 | LemonHeads\n",
      "Q6 | Licorice (not black)\n",
      "Q6 | Licorice (yes black)\n",
      "Q6 | Lindt Truffle\n",
      "Q6 | Lollipops\n",
      "Q6 | Mars\n",
      "Q6 | Maynards\n",
      "Q6 | Mike and Ike\n",
      "Q6 | Milk Duds\n",
      "Q6 | Milky Way\n",
      "Q6 | Regular M&Ms\n",
      "Q6 | Peanut M&MÕs\n",
      "Q6 | Blue M&M's\n",
      "Q6 | Red M&M's\n",
      "Q6 | Green Party M&M's\n",
      "Q6 | Independent M&M's\n",
      "Q6 | Abstained from M&M'ing.\n",
      "Q6 | Minibags of chips\n",
      "Q6 | Mint Kisses\n",
      "Q6 | Mint Juleps\n",
      "Q6 | Mr. Goodbar\n",
      "Q6 | Necco Wafers\n",
      "Q6 | Nerds\n",
      "Q6 | Nestle Crunch\n",
      "Q6 | Now'n'Laters\n",
      "Q6 | Peeps\n",
      "Q6 | Pencils\n",
      "Q6 | Pixy Stix\n",
      "Q6 | Real Housewives of Orange County Season 9 Blue-Ray\n",
      "Q6 | ReeseÕs Peanut Butter Cups\n",
      "Q6 | Reese's Pieces\n",
      "Q6 | Reggie Jackson Bar\n",
      "Q6 | Rolos\n",
      "Q6 | Sandwich-sized bags filled with BooBerry Crunch\n",
      "Q6 | Skittles\n",
      "Q6 | Smarties (American)\n",
      "Q6 | Smarties (Commonwealth)\n",
      "Q6 | Snickers\n",
      "Q6 | Sourpatch Kids (i.e. abominations of nature)\n",
      "Q6 | Spotted Dick\n",
      "Q6 | Starburst\n",
      "Q6 | Sweet Tarts\n",
      "Q6 | Swedish Fish\n",
      "Q6 | Sweetums (a friend to diabetes)\n",
      "Q6 | Take 5\n",
      "Q6 | Tic Tacs\n",
      "Q6 | Those odd marshmallow circus peanut things\n",
      "Q6 | Three Musketeers\n",
      "Q6 | Tolberone something or other\n",
      "Q6 | Trail Mix\n",
      "Q6 | Twix\n",
      "Q6 | Vials of pure high fructose corn syrup, for main-lining into your vein\n",
      "Q6 | Vicodin\n",
      "Q6 | Whatchamacallit Bars\n",
      "Q6 | White Bread\n",
      "Q6 | Whole Wheat anything\n",
      "Q6 | York Peppermint Patties\n",
      "Q7: JOY OTHER\n",
      "Q8: DESPAIR OTHER\n",
      "Q9: OTHER COMMENTS\n",
      "Q10: DRESS\n",
      "Unnamed: 113\n",
      "Q11: DAY\n",
      "Q12: MEDIA [Daily Dish]\n",
      "Q12: MEDIA [Science]\n",
      "Q12: MEDIA [ESPN]\n",
      "Q12: MEDIA [Yahoo]\n",
      "Click Coordinates (x, y)\n"
     ]
    }
   ],
   "source": [
    "# print a list of column names\n",
    "for col in candy.columns:\n",
    "    print(col)"
   ]
  },
  {
   "cell_type": "markdown",
   "metadata": {},
   "source": [
    "This data set is pretty messy. Your goal is now to perform the following actions to get it to the point where it can be passed to a machine learning model.\n",
    "\n",
    "**Note: Unless the instructions ask you to do something different, please always update the original `candy` DataFrame for the exercises below.  The automatic grading in CodeGrade will check your final DataFrame and ensure that you have performed all required data manipulations.  Also, feel free to add additional cells as needed.**  \n",
    "\n",
    "**Note 2: If you run your code through CodeGrade before you get to exercise 19, your indices might be different than what CodeGrade is expecting.  Just continue with the assignment and run your code again through CodeGrade after exercise 19 to see if that clears up the error.**"
   ]
  },
  {
   "cell_type": "markdown",
   "metadata": {},
   "source": [
    "## Data Cleaning"
   ]
  },
  {
   "cell_type": "markdown",
   "metadata": {},
   "source": [
    "**Exercise1:** Taking a look at the column names, you may notice that some include the character `Õ`. This should instead be an apostrophe `'` mark. Rename the column names that include the `Õ` character and replace it with an apostrophe.  \n",
    "\n",
    "Remember that you should be updating the `candy` DataFrame for the tasks listed as unless told differently. "
   ]
  },
  {
   "cell_type": "code",
   "execution_count": 417,
   "metadata": {},
   "outputs": [],
   "source": [
    "new_cols = [col.replace(\"Õ\", \"'\") if \"Õ\" in col else col for col in candy.columns]\n",
    "candy.columns = new_cols"
   ]
  },
  {
   "cell_type": "markdown",
   "metadata": {},
   "source": [
    "**Q1:** How many duplicated rows are there in the file? Assume that a duplicate is any row that is *exactly* the same as another one. Save this number as `Q1`."
   ]
  },
  {
   "cell_type": "code",
   "execution_count": 418,
   "metadata": {},
   "outputs": [
    {
     "data": {
      "text/plain": [
       "17"
      ]
     },
     "execution_count": 418,
     "metadata": {},
     "output_type": "execute_result"
    }
   ],
   "source": [
    "Q1 = candy.duplicated().sum()\n",
    "Q1"
   ]
  },
  {
   "cell_type": "markdown",
   "metadata": {},
   "source": [
    "**Q2:** How many duplicated rows are there in the file if we were to assume that a duplicate is any row with the same `Internal ID` number as another. In other words, even if the other values are different, a row would count as a duplicate if it had the same `Internal ID` as another. Save this number as `Q2`."
   ]
  },
  {
   "cell_type": "code",
   "execution_count": 419,
   "metadata": {},
   "outputs": [
    {
     "data": {
      "text/plain": [
       "19"
      ]
     },
     "execution_count": 419,
     "metadata": {},
     "output_type": "execute_result"
    }
   ],
   "source": [
    "Q2 = candy.duplicated(subset=['Internal ID']).sum()\n",
    "Q2"
   ]
  },
  {
   "cell_type": "markdown",
   "metadata": {},
   "source": [
    "**Exercise2:** Drop any duplicates from the `candy` DataFrame.  Duplicates are to be defined as any row with the same `Internal ID` as another. Use the default setting that keeps the first record from the duplicates."
   ]
  },
  {
   "cell_type": "code",
   "execution_count": 420,
   "metadata": {},
   "outputs": [
    {
     "data": {
      "text/plain": [
       "(2460, 120)"
      ]
     },
     "execution_count": 420,
     "metadata": {},
     "output_type": "execute_result"
    }
   ],
   "source": [
    "candy = candy.drop_duplicates(subset='Internal ID', keep='first')\n",
    "candy.shape"
   ]
  },
  {
   "cell_type": "markdown",
   "metadata": {},
   "source": [
    "**Exercise3:** Your next task is to remove the following columns from the `candy` DataFrame as we will not use these columns for this project.  You are welcome to do further analysis on these columns but do not save your analysis in this notebook.\n",
    "\n",
    "Remove the following columns: `Internal ID`, `Q5: STATE, PROVINCE, COUNTY, ETC`, `Q7: JOY OTHER`, `Q8: DESPAIR OTHER`, `Q9: OTHER COMMENTS`, `Unnamed: 113`, `Click Coordinates (x, y)`."
   ]
  },
  {
   "cell_type": "code",
   "execution_count": 421,
   "metadata": {},
   "outputs": [],
   "source": [
    "columns_to_remove = ['Internal ID', 'Q5: STATE, PROVINCE, COUNTY, ETC', 'Q7: JOY OTHER', 'Q8: DESPAIR OTHER', 'Q9: OTHER COMMENTS', 'Unnamed: 113', 'Click Coordinates (x, y)']\n",
    "candy = candy.drop(columns=columns_to_remove)"
   ]
  },
  {
   "cell_type": "markdown",
   "metadata": {},
   "source": [
    "**Code Check:** As a check for the above exercises, the shape of your data should now be: `(2460, 113)`"
   ]
  },
  {
   "cell_type": "code",
   "execution_count": 422,
   "metadata": {},
   "outputs": [
    {
     "name": "stdout",
     "output_type": "stream",
     "text": [
      "Shape of the dataset: (2460, 113)\n"
     ]
    }
   ],
   "source": [
    "print('Shape of the dataset:',candy.shape)"
   ]
  },
  {
   "cell_type": "markdown",
   "metadata": {},
   "source": [
    "**Exercise4:** Let's now take a look at the `Q2: GENDER` column since this will be what we are trying to predict. Take a look at the value counts for this column."
   ]
  },
  {
   "cell_type": "code",
   "execution_count": 423,
   "metadata": {},
   "outputs": [
    {
     "name": "stdout",
     "output_type": "stream",
     "text": [
      "Male                  1466\n",
      "Female                 839\n",
      "I'd rather not say      83\n",
      "Other                   30\n",
      "Name: Q2: GENDER, dtype: int64\n"
     ]
    }
   ],
   "source": [
    "print(candy['Q2: GENDER'].value_counts())"
   ]
  },
  {
   "cell_type": "markdown",
   "metadata": {},
   "source": [
    "**Q3:** How many missing values are in the `Q2: GENDER` column? Save this as `Q3`."
   ]
  },
  {
   "cell_type": "code",
   "execution_count": 424,
   "metadata": {},
   "outputs": [
    {
     "name": "stdout",
     "output_type": "stream",
     "text": [
      "42\n"
     ]
    }
   ],
   "source": [
    "Q3 = candy['Q2: GENDER'].isna().sum()\n",
    "print(Q3)"
   ]
  },
  {
   "cell_type": "markdown",
   "metadata": {},
   "source": [
    "**Exercise5:** Using the `candy` DataFrame, remove all rows with a missing value in the `Q2: GENDER` column.  (This should overwrite and be saved as `candy` like you have been doing for the previous exercises.)"
   ]
  },
  {
   "cell_type": "code",
   "execution_count": 425,
   "metadata": {},
   "outputs": [
    {
     "data": {
      "text/plain": [
       "(2418, 113)"
      ]
     },
     "execution_count": 425,
     "metadata": {},
     "output_type": "execute_result"
    }
   ],
   "source": [
    "candy = candy.dropna(subset=['Q2: GENDER'])\n",
    "candy.shape"
   ]
  },
  {
   "cell_type": "markdown",
   "metadata": {},
   "source": [
    "**Exercise6:** For this project, we want to use binary classification, which predicts one of two classes. Because we are using a binary classification model, we will try to predict between `Male` or `Female`. Select only the rows that contain either `Male` or `Female` in the `Q2: GENDER` column."
   ]
  },
  {
   "cell_type": "code",
   "execution_count": 426,
   "metadata": {
    "scrolled": true
   },
   "outputs": [
    {
     "name": "stdout",
     "output_type": "stream",
     "text": [
      "Male      1466\n",
      "Female     839\n",
      "Name: Q2: GENDER, dtype: int64\n"
     ]
    }
   ],
   "source": [
    "candy = candy[candy['Q2: GENDER'].isin(['Male', 'Female'])]\n",
    "print(candy['Q2: GENDER'].value_counts())"
   ]
  },
  {
   "cell_type": "markdown",
   "metadata": {},
   "source": [
    "**Code Check:** As a check for the above exercises, the shape of your data should now be: `(2305, 113)`"
   ]
  },
  {
   "cell_type": "code",
   "execution_count": 427,
   "metadata": {},
   "outputs": [
    {
     "name": "stdout",
     "output_type": "stream",
     "text": [
      "(2305, 113)\n"
     ]
    }
   ],
   "source": [
    "print(candy.shape)\n"
   ]
  },
  {
   "cell_type": "markdown",
   "metadata": {},
   "source": [
    "Now, let's work on filling some of the missing data.  There are easier ways to do this with the sklearn library which you will learn about more in the machine learning classes, but for now, let's try to practice our Pandas skills."
   ]
  },
  {
   "cell_type": "markdown",
   "metadata": {},
   "source": [
    "**Q4:** How many missing values are in the `Q1: GOING OUT?` column? Save this number as `Q4`."
   ]
  },
  {
   "cell_type": "code",
   "execution_count": 428,
   "metadata": {},
   "outputs": [
    {
     "data": {
      "text/plain": [
       "77"
      ]
     },
     "execution_count": 428,
     "metadata": {},
     "output_type": "execute_result"
    }
   ],
   "source": [
    "Q4 = candy['Q1: GOING OUT?'].isna().sum()\n",
    "Q4"
   ]
  },
  {
   "cell_type": "markdown",
   "metadata": {},
   "source": [
    "**Exercise7:** For a future analysis question, we are interested in those that we know will *definitely* go out for Halloween.  Because of this, fill all missing values in the `Q1: GOING OUT?` column with a `No` value."
   ]
  },
  {
   "cell_type": "code",
   "execution_count": 429,
   "metadata": {
    "code_folding": []
   },
   "outputs": [],
   "source": [
    "candy['Q1: GOING OUT?'].fillna('No', inplace=True)"
   ]
  },
  {
   "cell_type": "markdown",
   "metadata": {},
   "source": [
    "**Code Check:** Double check your above work and look at the value counts for the `Q1: GOING OUT?` column.  Make sure that you only have \"Yes\" and No\" values and that they add up to 2305, which is the number of rows you should have at this step in the assignment."
   ]
  },
  {
   "cell_type": "code",
   "execution_count": 430,
   "metadata": {},
   "outputs": [
    {
     "name": "stdout",
     "output_type": "stream",
     "text": [
      "No     2007\n",
      "Yes     298\n",
      "Name: Q1: GOING OUT?, dtype: int64\n",
      "2305\n"
     ]
    }
   ],
   "source": [
    "print(candy['Q1: GOING OUT?'].value_counts())\n",
    "print(candy.shape[0])"
   ]
  },
  {
   "cell_type": "markdown",
   "metadata": {},
   "source": [
    "**Exercise8:** To get ready for the next step, let's practice selecting all the columns: going from `Q6 | 100 Grand Bar` to `Q11: DAY`.  Save this slice as `candy_slice`."
   ]
  },
  {
   "cell_type": "code",
   "execution_count": 431,
   "metadata": {},
   "outputs": [
    {
     "data": {
      "text/html": [
       "<div>\n",
       "<style scoped>\n",
       "    .dataframe tbody tr th:only-of-type {\n",
       "        vertical-align: middle;\n",
       "    }\n",
       "\n",
       "    .dataframe tbody tr th {\n",
       "        vertical-align: top;\n",
       "    }\n",
       "\n",
       "    .dataframe thead th {\n",
       "        text-align: right;\n",
       "    }\n",
       "</style>\n",
       "<table border=\"1\" class=\"dataframe\">\n",
       "  <thead>\n",
       "    <tr style=\"text-align: right;\">\n",
       "      <th></th>\n",
       "      <th>Q6 | 100 Grand Bar</th>\n",
       "      <th>Q6 | Anonymous brown globs that come in black and orange wrappers\\t(a.k.a. Mary Janes)</th>\n",
       "      <th>Q6 | Any full-sized candy bar</th>\n",
       "      <th>Q6 | Black Jacks</th>\n",
       "      <th>Q6 | Bonkers (the candy)</th>\n",
       "      <th>Q6 | Bonkers (the board game)</th>\n",
       "      <th>Q6 | Bottle Caps</th>\n",
       "      <th>Q6 | Box'o'Raisins</th>\n",
       "      <th>Q6 | Broken glow stick</th>\n",
       "      <th>Q6 | Butterfinger</th>\n",
       "      <th>...</th>\n",
       "      <th>Q6 | Trail Mix</th>\n",
       "      <th>Q6 | Twix</th>\n",
       "      <th>Q6 | Vials of pure high fructose corn syrup, for main-lining into your vein</th>\n",
       "      <th>Q6 | Vicodin</th>\n",
       "      <th>Q6 | Whatchamacallit Bars</th>\n",
       "      <th>Q6 | White Bread</th>\n",
       "      <th>Q6 | Whole Wheat anything</th>\n",
       "      <th>Q6 | York Peppermint Patties</th>\n",
       "      <th>Q10: DRESS</th>\n",
       "      <th>Q11: DAY</th>\n",
       "    </tr>\n",
       "  </thead>\n",
       "  <tbody>\n",
       "    <tr>\n",
       "      <th>1</th>\n",
       "      <td>MEH</td>\n",
       "      <td>DESPAIR</td>\n",
       "      <td>JOY</td>\n",
       "      <td>MEH</td>\n",
       "      <td>DESPAIR</td>\n",
       "      <td>DESPAIR</td>\n",
       "      <td>DESPAIR</td>\n",
       "      <td>DESPAIR</td>\n",
       "      <td>DESPAIR</td>\n",
       "      <td>DESPAIR</td>\n",
       "      <td>...</td>\n",
       "      <td>DESPAIR</td>\n",
       "      <td>JOY</td>\n",
       "      <td>DESPAIR</td>\n",
       "      <td>DESPAIR</td>\n",
       "      <td>DESPAIR</td>\n",
       "      <td>DESPAIR</td>\n",
       "      <td>DESPAIR</td>\n",
       "      <td>DESPAIR</td>\n",
       "      <td>White and gold</td>\n",
       "      <td>Sunday</td>\n",
       "    </tr>\n",
       "    <tr>\n",
       "      <th>2</th>\n",
       "      <td>NaN</td>\n",
       "      <td>NaN</td>\n",
       "      <td>NaN</td>\n",
       "      <td>NaN</td>\n",
       "      <td>NaN</td>\n",
       "      <td>NaN</td>\n",
       "      <td>NaN</td>\n",
       "      <td>NaN</td>\n",
       "      <td>NaN</td>\n",
       "      <td>NaN</td>\n",
       "      <td>...</td>\n",
       "      <td>NaN</td>\n",
       "      <td>NaN</td>\n",
       "      <td>NaN</td>\n",
       "      <td>NaN</td>\n",
       "      <td>NaN</td>\n",
       "      <td>NaN</td>\n",
       "      <td>NaN</td>\n",
       "      <td>NaN</td>\n",
       "      <td>NaN</td>\n",
       "      <td>NaN</td>\n",
       "    </tr>\n",
       "    <tr>\n",
       "      <th>3</th>\n",
       "      <td>MEH</td>\n",
       "      <td>DESPAIR</td>\n",
       "      <td>JOY</td>\n",
       "      <td>MEH</td>\n",
       "      <td>MEH</td>\n",
       "      <td>DESPAIR</td>\n",
       "      <td>MEH</td>\n",
       "      <td>DESPAIR</td>\n",
       "      <td>DESPAIR</td>\n",
       "      <td>MEH</td>\n",
       "      <td>...</td>\n",
       "      <td>MEH</td>\n",
       "      <td>JOY</td>\n",
       "      <td>DESPAIR</td>\n",
       "      <td>JOY</td>\n",
       "      <td>JOY</td>\n",
       "      <td>DESPAIR</td>\n",
       "      <td>DESPAIR</td>\n",
       "      <td>DESPAIR</td>\n",
       "      <td>White and gold</td>\n",
       "      <td>Sunday</td>\n",
       "    </tr>\n",
       "    <tr>\n",
       "      <th>4</th>\n",
       "      <td>JOY</td>\n",
       "      <td>DESPAIR</td>\n",
       "      <td>JOY</td>\n",
       "      <td>DESPAIR</td>\n",
       "      <td>MEH</td>\n",
       "      <td>DESPAIR</td>\n",
       "      <td>MEH</td>\n",
       "      <td>DESPAIR</td>\n",
       "      <td>DESPAIR</td>\n",
       "      <td>MEH</td>\n",
       "      <td>...</td>\n",
       "      <td>DESPAIR</td>\n",
       "      <td>JOY</td>\n",
       "      <td>MEH</td>\n",
       "      <td>JOY</td>\n",
       "      <td>JOY</td>\n",
       "      <td>DESPAIR</td>\n",
       "      <td>DESPAIR</td>\n",
       "      <td>JOY</td>\n",
       "      <td>White and gold</td>\n",
       "      <td>Friday</td>\n",
       "    </tr>\n",
       "    <tr>\n",
       "      <th>5</th>\n",
       "      <td>JOY</td>\n",
       "      <td>DESPAIR</td>\n",
       "      <td>JOY</td>\n",
       "      <td>NaN</td>\n",
       "      <td>NaN</td>\n",
       "      <td>NaN</td>\n",
       "      <td>MEH</td>\n",
       "      <td>MEH</td>\n",
       "      <td>DESPAIR</td>\n",
       "      <td>JOY</td>\n",
       "      <td>...</td>\n",
       "      <td>MEH</td>\n",
       "      <td>JOY</td>\n",
       "      <td>DESPAIR</td>\n",
       "      <td>DESPAIR</td>\n",
       "      <td>JOY</td>\n",
       "      <td>DESPAIR</td>\n",
       "      <td>DESPAIR</td>\n",
       "      <td>JOY</td>\n",
       "      <td>NaN</td>\n",
       "      <td>NaN</td>\n",
       "    </tr>\n",
       "  </tbody>\n",
       "</table>\n",
       "<p>5 rows × 105 columns</p>\n",
       "</div>"
      ],
      "text/plain": [
       "  Q6 | 100 Grand Bar  \\\n",
       "1                MEH   \n",
       "2                NaN   \n",
       "3                MEH   \n",
       "4                JOY   \n",
       "5                JOY   \n",
       "\n",
       "  Q6 | Anonymous brown globs that come in black and orange wrappers\\t(a.k.a. Mary Janes)  \\\n",
       "1                                            DESPAIR                                       \n",
       "2                                                NaN                                       \n",
       "3                                            DESPAIR                                       \n",
       "4                                            DESPAIR                                       \n",
       "5                                            DESPAIR                                       \n",
       "\n",
       "  Q6 | Any full-sized candy bar Q6 | Black Jacks Q6 | Bonkers (the candy)  \\\n",
       "1                           JOY              MEH                  DESPAIR   \n",
       "2                           NaN              NaN                      NaN   \n",
       "3                           JOY              MEH                      MEH   \n",
       "4                           JOY          DESPAIR                      MEH   \n",
       "5                           JOY              NaN                      NaN   \n",
       "\n",
       "  Q6 | Bonkers (the board game) Q6 | Bottle Caps Q6 | Box'o'Raisins  \\\n",
       "1                       DESPAIR          DESPAIR            DESPAIR   \n",
       "2                           NaN              NaN                NaN   \n",
       "3                       DESPAIR              MEH            DESPAIR   \n",
       "4                       DESPAIR              MEH            DESPAIR   \n",
       "5                           NaN              MEH                MEH   \n",
       "\n",
       "  Q6 | Broken glow stick Q6 | Butterfinger  ... Q6 | Trail Mix Q6 | Twix  \\\n",
       "1                DESPAIR           DESPAIR  ...        DESPAIR       JOY   \n",
       "2                    NaN               NaN  ...            NaN       NaN   \n",
       "3                DESPAIR               MEH  ...            MEH       JOY   \n",
       "4                DESPAIR               MEH  ...        DESPAIR       JOY   \n",
       "5                DESPAIR               JOY  ...            MEH       JOY   \n",
       "\n",
       "  Q6 | Vials of pure high fructose corn syrup, for main-lining into your vein  \\\n",
       "1                                            DESPAIR                            \n",
       "2                                                NaN                            \n",
       "3                                            DESPAIR                            \n",
       "4                                                MEH                            \n",
       "5                                            DESPAIR                            \n",
       "\n",
       "  Q6 | Vicodin Q6 | Whatchamacallit Bars Q6 | White Bread  \\\n",
       "1      DESPAIR                   DESPAIR          DESPAIR   \n",
       "2          NaN                       NaN              NaN   \n",
       "3          JOY                       JOY          DESPAIR   \n",
       "4          JOY                       JOY          DESPAIR   \n",
       "5      DESPAIR                       JOY          DESPAIR   \n",
       "\n",
       "  Q6 | Whole Wheat anything Q6 | York Peppermint Patties      Q10: DRESS  \\\n",
       "1                   DESPAIR                      DESPAIR  White and gold   \n",
       "2                       NaN                          NaN             NaN   \n",
       "3                   DESPAIR                      DESPAIR  White and gold   \n",
       "4                   DESPAIR                          JOY  White and gold   \n",
       "5                   DESPAIR                          JOY             NaN   \n",
       "\n",
       "  Q11: DAY  \n",
       "1   Sunday  \n",
       "2      NaN  \n",
       "3   Sunday  \n",
       "4   Friday  \n",
       "5      NaN  \n",
       "\n",
       "[5 rows x 105 columns]"
      ]
     },
     "execution_count": 431,
     "metadata": {},
     "output_type": "execute_result"
    }
   ],
   "source": [
    "candy_slice = candy.loc[:, 'Q6 | 100 Grand Bar':'Q11: DAY']\n",
    "candy_slice.head()"
   ]
  },
  {
   "cell_type": "markdown",
   "metadata": {},
   "source": [
    "**Exercise9:** Now that you know how to slice the data, fill any missing values in the `candy` DataFrame for those columns (going from `Q6 | 100 Grand Bar` to `Q11: DAY`) with the string `NO_ANSWER`. **Make sure you are working with the `candy` DataFrame and not the `candy_slice` DataFrame.**"
   ]
  },
  {
   "cell_type": "code",
   "execution_count": 432,
   "metadata": {},
   "outputs": [],
   "source": [
    "candy.loc[:, 'Q6 | 100 Grand Bar':'Q11: DAY'] = candy.loc[:, 'Q6 | 100 Grand Bar':'Q11: DAY'].fillna('NO_ANSWER')\n"
   ]
  },
  {
   "cell_type": "markdown",
   "metadata": {},
   "source": [
    "**Exercise10:** For all four `Q12: Media` columns in the `candy` DataFrame, fill the missing values with `0.0`."
   ]
  },
  {
   "cell_type": "code",
   "execution_count": 433,
   "metadata": {},
   "outputs": [],
   "source": [
    "candy[['Q12: MEDIA [Daily Dish]',\n",
    "       'Q12: MEDIA [Science]',\n",
    "       'Q12: MEDIA [ESPN]',\n",
    "       'Q12: MEDIA [Yahoo]']] = candy[['Q12: MEDIA [Daily Dish]',\n",
    "                                       'Q12: MEDIA [Science]',\n",
    "                                       'Q12: MEDIA [ESPN]',\n",
    "                                       'Q12: MEDIA [Yahoo]']].fillna(0.0)"
   ]
  },
  {
   "cell_type": "markdown",
   "metadata": {},
   "source": [
    "**Code Check:** As a check for the above code, make sure that there are no missing values left for the `Q6` to `Q12` columns.  "
   ]
  },
  {
   "cell_type": "code",
   "execution_count": 434,
   "metadata": {},
   "outputs": [
    {
     "name": "stdout",
     "output_type": "stream",
     "text": [
      "Q6 | 100 Grand Bar                                                                        0\n",
      "Q6 | Anonymous brown globs that come in black and orange wrappers\\t(a.k.a. Mary Janes)    0\n",
      "Q6 | Any full-sized candy bar                                                             0\n",
      "Q6 | Black Jacks                                                                          0\n",
      "Q6 | Bonkers (the candy)                                                                  0\n",
      "                                                                                         ..\n",
      "Q11: DAY                                                                                  0\n",
      "Q12: MEDIA [Daily Dish]                                                                   0\n",
      "Q12: MEDIA [Science]                                                                      0\n",
      "Q12: MEDIA [ESPN]                                                                         0\n",
      "Q12: MEDIA [Yahoo]                                                                        0\n",
      "Length: 109, dtype: int64\n"
     ]
    }
   ],
   "source": [
    "print(candy.loc[:, 'Q6 | 100 Grand Bar':'Q12: MEDIA [Yahoo]'].isna().sum())\n"
   ]
  },
  {
   "cell_type": "markdown",
   "metadata": {},
   "source": [
    "Now, let's look at the very messy `Q4: COUNTRY` column and see what we can do about it. First, run the code below to look at the different unique values in the data."
   ]
  },
  {
   "cell_type": "code",
   "execution_count": 435,
   "metadata": {},
   "outputs": [
    {
     "data": {
      "text/plain": [
       "array(['USA ', 'USA', 'us', 'usa', nan, 'canada', 'Canada', 'Us', 'US',\n",
       "       'Murica', 'United States', 'uk', 'United Kingdom', 'united states',\n",
       "       'Usa', 'United States ', 'United staes',\n",
       "       'United States of America', 'UAE', 'England', 'UK', 'canada ',\n",
       "       'United states', 'u.s.a.', '35', 'france',\n",
       "       'United States of America ', 'america', 'U.S.A.', 'finland',\n",
       "       'unhinged states', 'Mexico', 'Canada ', 'united states of america',\n",
       "       'US of A', 'The United States', 'North Carolina ', 'Unied States',\n",
       "       'Netherlands', 'germany', 'Europe', 'U S', 'u.s.', 'U.K. ',\n",
       "       'Costa Rica', 'The United States of America', 'unite states',\n",
       "       'U.S.', '46', 'Australia', 'Greece', 'USA? Hard to tell anymore..',\n",
       "       \"'merica\", '45', 'United State', '32', 'France', 'australia',\n",
       "       'Can', 'Canae', 'Trumpistan', 'Ireland', 'United Sates', 'Korea',\n",
       "       'California', 'Unites States', 'Japan', 'USa', 'South africa',\n",
       "       'I pretend to be from Canada, but I am really from the United States.',\n",
       "       'Usa ', 'Uk', 'Germany', 'Canada`', 'Scotland', 'UK ', 'Denmark',\n",
       "       'United Stated', 'France ', 'Switzerland', 'UD', 'Scotland ',\n",
       "       'South Korea', 'New Jersey', 'CANADA', 'Indonesia',\n",
       "       'United ststes', 'America', 'The Netherlands', 'United Statss',\n",
       "       'endland', 'murrika', 'USA! USA! USA!', 'USAA', 'united States ',\n",
       "       'soviet canuckistan', 'N. America', 'Singapore', 'USSA', 'China',\n",
       "       'Taiwan', 'Ireland ', 'hong kong', 'spain', 'Sweden', 'Hong Kong',\n",
       "       'U.S. ', 'Narnia', 'u s a', 'United Statea', 'united ststes',\n",
       "       'subscribe to dm4uz3 on youtube', 'United kingdom',\n",
       "       'USA USA USA!!!!', \"I don't know anymore\", 'Fear and Loathing'],\n",
       "      dtype=object)"
      ]
     },
     "execution_count": 435,
     "metadata": {},
     "output_type": "execute_result"
    }
   ],
   "source": [
    "# check unique values\n",
    "candy['Q4: COUNTRY'].unique()"
   ]
  },
  {
   "cell_type": "markdown",
   "metadata": {},
   "source": [
    "**Code Check:** As a check for the Country column, check to see how many unique values are in the data.  You should have `115` different unique values for the `Q4: COUNTRY` column.  If you have less or more than this number, double check your work above."
   ]
  },
  {
   "cell_type": "code",
   "execution_count": 436,
   "metadata": {},
   "outputs": [
    {
     "data": {
      "text/plain": [
       "115"
      ]
     },
     "execution_count": 436,
     "metadata": {},
     "output_type": "execute_result"
    }
   ],
   "source": [
    "# check the Q4: COUNTRY number of unique values\n",
    "candy['Q4: COUNTRY'].nunique()"
   ]
  },
  {
   "cell_type": "markdown",
   "metadata": {},
   "source": [
    "We want to clean up this data to only include four areas: USA, Canada, Europe (the continent, not necessarily the European Union), and Other.\n",
    "\n",
    "There are different ways to do this, but I would suggest that you look at the way we handled the `property_type` column in the `vienna` data set and the code in the `amenities_to_columns()` function in the module notebook.  These might be a little harder than those examples but they should give you a good baseline approach.  \n",
    "\n",
    "You could use `replace()` for this step, and it is fine if you ultimately decide to do this, but I would suggest that you come up with a solution similar to what was shown in the `vienna` data cleaning notebook.  This method would be much more robust if you had many more values in your data.\n",
    "\n",
    "I suggest the following order for this section to make it easier:\n",
    "- Fill in all missing values with `Other`\n",
    "- Code Australia as `Other` (doing this step will help when trying to use `us` in the next step if you use string methods)\n",
    "- Combine all USA entries together as `USA`\n",
    "- Combine Canadian entries as `CA`\n",
    "- Combine European entries as `EU`\n",
    "- Everything else gets coded as `Other`"
   ]
  },
  {
   "cell_type": "markdown",
   "metadata": {},
   "source": [
    "**Exercise11:** Fill the missing values in the `Q4: Country` column with `Other`."
   ]
  },
  {
   "cell_type": "code",
   "execution_count": 437,
   "metadata": {},
   "outputs": [],
   "source": [
    "candy['Q4: COUNTRY'].fillna('Other', inplace=True)\n"
   ]
  },
  {
   "cell_type": "markdown",
   "metadata": {},
   "source": [
    "**Code Check:** Double check that there are no missing values in the `Q4: COUNTRY` column.  Also, double check the unique values to make sure that \"Other\" was added.  This should mean that you now have `116` unique values for this column."
   ]
  },
  {
   "cell_type": "code",
   "execution_count": 438,
   "metadata": {},
   "outputs": [
    {
     "name": "stdout",
     "output_type": "stream",
     "text": [
      "0\n"
     ]
    }
   ],
   "source": [
    "# check missing Q4 values\n",
    "print(candy['Q4: COUNTRY'].isna().sum())"
   ]
  },
  {
   "cell_type": "code",
   "execution_count": 439,
   "metadata": {},
   "outputs": [
    {
     "name": "stdout",
     "output_type": "stream",
     "text": [
      "116\n"
     ]
    }
   ],
   "source": [
    "# check unique values\n",
    "print(candy['Q4: COUNTRY'].nunique())"
   ]
  },
  {
   "cell_type": "markdown",
   "metadata": {},
   "source": [
    "**Exercise12:** Combine all Australia entries into `Other`.  Watch out for capitalization issues.  You should have `114` unique values after this step."
   ]
  },
  {
   "cell_type": "code",
   "execution_count": 440,
   "metadata": {},
   "outputs": [],
   "source": [
    "# Code Australia as \"Other\"\n",
    "candy['Q4: COUNTRY'] = candy['Q4: COUNTRY'].str.replace('Australia', 'Other', case=False)"
   ]
  },
  {
   "cell_type": "code",
   "execution_count": 441,
   "metadata": {},
   "outputs": [
    {
     "name": "stdout",
     "output_type": "stream",
     "text": [
      "114\n"
     ]
    }
   ],
   "source": [
    "# check number of unique values\n",
    "print(candy['Q4: COUNTRY'].nunique())"
   ]
  },
  {
   "cell_type": "markdown",
   "metadata": {},
   "source": [
    "**Exercise13:** Combine all United States entries together into `USA`.  These would include the following:\n",
    "```\n",
    "'USA ', 'USA', 'us', 'usa', 'Us', 'US', 'Murica', 'United States', 'united states', 'Usa', 'United States ', 'United staes', 'United States of America', 'United states', 'u.s.a.', 'United States of America ', 'america', 'U.S.A.', 'unhinged states', 'united states of america', 'US of A', 'The United States', 'North Carolina ', 'Unied States', 'U S', 'u.s.', 'The United States of America', 'unite states','U.S.', 'USA? Hard to tell anymore..', \"'merica\", 'United State', 'United Sates', 'California', 'Unites States', 'USa', 'I pretend to be from Canada, but I am really from the United States.', 'Usa ', 'United Stated', 'New Jersey', 'United ststes', 'America', 'United Statss', 'murrika', 'USA! USA! USA!', 'USAA', 'united States ', 'N. America', 'USSA', 'U.S. ', 'u s a', 'United Statea', 'united ststes', 'USA USA USA!!!!'\n",
    "```"
   ]
  },
  {
   "cell_type": "markdown",
   "metadata": {},
   "source": [
    "**Careful:** Some students try to use regex for this step with a string method.  Be careful as there is one response with the term \"subscribe\" in it.  If you create your regex incorrectly, your use of \"u.s.\" could mistakenly pick up this record because of the \"ubs\" contained in it and code it as \"USA\"."
   ]
  },
  {
   "cell_type": "code",
   "execution_count": 442,
   "metadata": {},
   "outputs": [],
   "source": [
    "# Define a function to map the country names\n",
    "def map_country(country):\n",
    "    if country in ['USA ', 'USA', 'us', 'usa', 'Us', 'US', 'Murica', 'United States', 'united states', 'Usa', 'United States ', 'United staes', 'United States of America', 'United states', 'u.s.a.', 'United States of America ', 'america', 'U.S.A.', 'unhinged states', 'united states of america', 'US of A', 'The United States', 'North Carolina ', 'Unied States', 'U S', 'u.s.', 'The United States of America', 'unite states','U.S.', 'USA? Hard to tell anymore..', \"'merica\", 'United State', 'United Sates', 'California', 'Unites States', 'USa', 'I pretend to be from Canada, but I am really from the United States.', 'Usa ', 'United Stated', 'New Jersey', 'United ststes', 'America', 'United Statss', 'murrika', 'USA! USA! USA!', 'USAA', 'united States ', 'N. America', 'USSA', 'U.S. ', 'u s a', 'United Statea', 'united ststes', 'USA USA USA!!!!']:\n",
    "        return 'USA'\n",
    "    else:\n",
    "        return country\n",
    "\n",
    "# Apply the mapping function to the 'country' column\n",
    "candy['Q4: COUNTRY'] = candy['Q4: COUNTRY'].apply(map_country)"
   ]
  },
  {
   "cell_type": "markdown",
   "metadata": {},
   "source": [
    "**Code Check:** You should be merging the above values together into 1 (`USA`) and be left with 61 unique values after this step (including the `USA` value)."
   ]
  },
  {
   "cell_type": "code",
   "execution_count": 443,
   "metadata": {},
   "outputs": [
    {
     "name": "stdout",
     "output_type": "stream",
     "text": [
      "61\n"
     ]
    }
   ],
   "source": [
    "# check unique values\n",
    "unique_countries = candy['Q4: COUNTRY'].unique()\n",
    "print(len(unique_countries))"
   ]
  },
  {
   "cell_type": "markdown",
   "metadata": {},
   "source": [
    "**Exercise14:** Combine the Canadian entries (both upper and lower case) and label them as `CA`. Be careful as there are extra spaces, characters, and misspellings (Can, Canae). \n",
    "\n",
    "These values include:\n",
    "```\n",
    "'canada', 'Canada', 'canada ', 'Canada ', 'Can', 'Canae', 'Canada`', 'CANADA'\n",
    "```"
   ]
  },
  {
   "cell_type": "code",
   "execution_count": 444,
   "metadata": {},
   "outputs": [],
   "source": [
    "def map_country(country):\n",
    "    if country in ['canada', 'Canada', 'canada ', 'Canada ', 'Can', 'Canae', 'Canada`', 'CANADA']:\n",
    "        return 'CA'\n",
    "    else:\n",
    "        return country\n",
    "\n",
    "# Apply the mapping function to the 'country' column\n",
    "candy['Q4: COUNTRY'] = candy['Q4: COUNTRY'].apply(map_country)"
   ]
  },
  {
   "cell_type": "markdown",
   "metadata": {},
   "source": [
    "**Code Check:** You should be merging 8 values together into 1 (`CA`) and be left with 54 unique values after this step (including the `CA` value)."
   ]
  },
  {
   "cell_type": "code",
   "execution_count": 445,
   "metadata": {},
   "outputs": [
    {
     "name": "stdout",
     "output_type": "stream",
     "text": [
      "54\n"
     ]
    }
   ],
   "source": [
    "# check unique values\n",
    "unique_countries = candy['Q4: COUNTRY'].unique()\n",
    "print(len(unique_countries))"
   ]
  },
  {
   "cell_type": "markdown",
   "metadata": {},
   "source": [
    "**Exercise15:** Combine the European entries and label them as `EU`. Again, we are looking at the continent of Europe and not necessarily the countries that are a part of the European Union.  \n",
    "\n",
    "These values include:\n",
    "```\n",
    "'uk', 'United Kingdom', 'England', 'UK', 'france', 'finland', 'Netherlands', 'germany', 'Europe', 'U.K. ', 'Greece', 'France', 'Ireland', 'Uk', 'Germany', 'Scotland', 'UK ', 'Denmark', 'France ', 'Switzerland', 'Scotland ', 'The Netherlands', 'Ireland ', 'spain', 'Sweden', 'United kingdom'\n",
    "```"
   ]
  },
  {
   "cell_type": "code",
   "execution_count": 446,
   "metadata": {},
   "outputs": [],
   "source": [
    "def map_country(country):\n",
    "    if country in ['uk', 'United Kingdom', 'England', 'UK', 'france', 'finland', 'Netherlands', 'germany', 'Europe', 'U.K. ', 'Greece', 'France', 'Ireland', 'Uk', 'Germany', 'Scotland', 'UK ', 'Denmark', 'France ', 'Switzerland', 'Scotland ', 'The Netherlands', 'Ireland ', 'spain', 'Sweden', 'United kingdom']:\n",
    "        return 'EU'\n",
    "    else:\n",
    "        return country\n",
    "\n",
    "# Apply the mapping function to the 'country' column\n",
    "candy['Q4: COUNTRY'] = candy['Q4: COUNTRY'].apply(map_country)"
   ]
  },
  {
   "cell_type": "markdown",
   "metadata": {},
   "source": [
    "**Code Check:** You should be merging 26 entries together and be left with 29 unique values after this step (including the `EU` value)."
   ]
  },
  {
   "cell_type": "code",
   "execution_count": 447,
   "metadata": {},
   "outputs": [
    {
     "name": "stdout",
     "output_type": "stream",
     "text": [
      "29\n"
     ]
    }
   ],
   "source": [
    "# check unique values\n",
    "unique_countries = candy['Q4: COUNTRY'].unique()\n",
    "print(len(unique_countries))"
   ]
  },
  {
   "cell_type": "markdown",
   "metadata": {},
   "source": [
    "**Exercise16:** Finally, combine the other entries and label them as `Other`."
   ]
  },
  {
   "cell_type": "code",
   "execution_count": 448,
   "metadata": {},
   "outputs": [],
   "source": [
    "def map_country(country):\n",
    "    if country in ['USA','CA','EU']:\n",
    "        return country\n",
    "    else:\n",
    "        return 'Other'\n",
    "\n",
    "# Apply the mapping function to the 'country' column\n",
    "candy['Q4: COUNTRY'] = candy['Q4: COUNTRY'].apply(map_country)"
   ]
  },
  {
   "cell_type": "markdown",
   "metadata": {},
   "source": [
    "**Code Check:** Double check that you only have four unique values in the `Q4: COUNTRY` column: `USA`, `Other`, `CA`, and `EU`"
   ]
  },
  {
   "cell_type": "code",
   "execution_count": 449,
   "metadata": {},
   "outputs": [
    {
     "data": {
      "text/plain": [
       "array(['USA', 'Other', 'CA', 'EU'], dtype=object)"
      ]
     },
     "execution_count": 449,
     "metadata": {},
     "output_type": "execute_result"
    }
   ],
   "source": [
    "# check values\n",
    "candy['Q4: COUNTRY'].unique()"
   ]
  },
  {
   "cell_type": "markdown",
   "metadata": {},
   "source": [
    "**Q5:** To double check that everything was coded correctly, save the value counts of the `Q4: COUNTRY` column as `Q5`.  You can check this once you run your CodeGrade check."
   ]
  },
  {
   "cell_type": "code",
   "execution_count": 450,
   "metadata": {},
   "outputs": [
    {
     "data": {
      "text/plain": [
       "2305"
      ]
     },
     "execution_count": 450,
     "metadata": {},
     "output_type": "execute_result"
    }
   ],
   "source": [
    "Q5=candy['Q4: COUNTRY'].value_counts().sum()\n",
    "Q5"
   ]
  },
  {
   "cell_type": "markdown",
   "metadata": {},
   "source": [
    "We now want to look at the `Q3: AGE` column. Let's look at all the unique values."
   ]
  },
  {
   "cell_type": "code",
   "execution_count": 451,
   "metadata": {},
   "outputs": [
    {
     "data": {
      "text/plain": [
       "array(['44', '49', '40', '23', nan, '53', '33', '43', '56', '64', '37',\n",
       "       '48', '54', '36', '45', '25', '34', '35', '38', '58', '50', '47',\n",
       "       '16', '52', '63', '65', '41', '27', '31', '59', '61', '46', '42',\n",
       "       '62', '29', '39', '32', '28', '69', '67', '30', '22', '51', '70',\n",
       "       '24', '19', 'Old enough', '57', '60', '66', '12', 'Many', '55',\n",
       "       '72', '?', '21', '11', 'no', '9', '68', '20', '6', '10', '71',\n",
       "       '13', '26', '45-55', '7', '39.4', '74', '18', 'older than dirt',\n",
       "       '17', '15', '8', '75', '5u', 'Enough', 'Over 50', '90', '76',\n",
       "       'sixty-nine', 'ancient', '77', 'OLD', 'old', '73', '70 1/2', '14',\n",
       "       'MY NAME JEFF', '4', '59 on the day after Halloween', 'old enough',\n",
       "       'your mom', 'I can remember when Java was a cool new language',\n",
       "       '60+'], dtype=object)"
      ]
     },
     "execution_count": 451,
     "metadata": {},
     "output_type": "execute_result"
    }
   ],
   "source": [
    "# check unique age values\n",
    "candy['Q3: AGE'].unique()"
   ]
  },
  {
   "cell_type": "markdown",
   "metadata": {},
   "source": [
    "Again, this is a pretty messy column of data. This is a good example of why those that create online surveys shouldn't allow the individual to just put any value into the field. But it is now our job to clean this up.\n",
    "\n",
    "**Exercise17:** Your task is to put these values into the following categorical bins: `unknown`, `17 and under`, `18-25`, `26-35`, `36-45`, `46-55`, and `56+`. \n",
    "\n",
    "- The category labels should exactly match the above.\n",
    "- Missing values should be replaced with the `unknown` category\n",
    "- To make things easier and avoid ambiguity, let's say that any value with text, even if we could determine the age, will be binned with the `unknown` category. For example: `sixty-nine` should be coded as `unknown`, `45-55` should be coded as `unknown`, `59 on the day after Halloween` should be coded as `unknown`, etc.\n",
    "- Ensure that the category labels are unordered but reorder the categories so that 'unknown' is listed in the first position. This is not really needed but will help us grade your assignment. The categories should be listed as follows: `Index(['unknown', '17 and under', '18-25', '26-35', '36-45', '46-55', '56+'], dtype='object')`"
   ]
  },
  {
   "cell_type": "markdown",
   "metadata": {},
   "source": [
    "First, we will replace any non-numeric value (those with text as mentioned above) with a missing value.  This will allow you to turn the other values into floats so that you can bin them. Just don't forget to code the missing values as `unknown` when you are done.  To replace the non-numeric values, run the following code:"
   ]
  },
  {
   "cell_type": "code",
   "execution_count": 452,
   "metadata": {},
   "outputs": [],
   "source": [
    "### DO NOT CHANGE THIS CODE - RUN AS IS ###\n",
    "### This code replaces non-numeric values with a missing value to make your next step easier ###\n",
    "\n",
    "# create True/False index\n",
    "age_index = candy['Q3: AGE'].str.isnumeric()\n",
    "\n",
    "# for the index, fill missing values with False\n",
    "age_index = age_index.fillna(False)\n",
    "\n",
    "# select Age column for only those False values from index and code as missing\n",
    "candy.loc[~age_index, 'Q3: AGE'] = np.nan"
   ]
  },
  {
   "cell_type": "markdown",
   "metadata": {},
   "source": [
    "Now, you can finish exercise 17 to bin the ages and write the code below:"
   ]
  },
  {
   "cell_type": "code",
   "execution_count": 453,
   "metadata": {},
   "outputs": [],
   "source": [
    "# Bin the ages into categorical bins\n",
    "candy['Q3: AGE'] = candy['Q3: AGE'].astype('float').apply(lambda x: 'unknown' if np.isnan(x) else\n",
    "                                          '17 and under' if x <= 17 else\n",
    "                                          '18-25' if x <= 25 else\n",
    "                                          '26-35' if x <= 35 else\n",
    "                                          '36-45' if x <= 45 else\n",
    "                                          '46-55' if x <= 55 else\n",
    "                                          '56+')\n",
    "categories = ['unknown', '17 and under', '18-25', '26-35', '36-45', '46-55', '56+']\n",
    "candy['Q3: AGE'] = pd.Categorical(candy['Q3: AGE'], categories=categories, ordered=False)"
   ]
  },
  {
   "cell_type": "markdown",
   "metadata": {},
   "source": [
    "**Exercise18:** Double check yourself by checking the categories for the `Q3: AGE` column. It should output: `Index(['unknown', '17 and under', '18-25', '26-35', '36-45', '46-55', '56+'], dtype='object')`"
   ]
  },
  {
   "cell_type": "code",
   "execution_count": 454,
   "metadata": {},
   "outputs": [
    {
     "name": "stdout",
     "output_type": "stream",
     "text": [
      "Index(['unknown', '17 and under', '18-25', '26-35', '36-45', '46-55', '56+'], dtype='object')\n"
     ]
    }
   ],
   "source": [
    "# double check categories\n",
    "age_categories = candy['Q3: AGE'].astype('category').cat.categories\n",
    "print(age_categories)"
   ]
  },
  {
   "cell_type": "markdown",
   "metadata": {},
   "source": [
    "**Code Check:** To double check your above binning worked correctly, your value counts (sorted by the index) should be as follows:\n",
    "\n",
    "```\n",
    "unknown: 60 \n",
    "17 and under: 49 \n",
    "18-25: 85\n",
    "26-35: 520\n",
    "36-45: 768\n",
    "46-55: 525\n",
    "56+: 298\n",
    "```"
   ]
  },
  {
   "cell_type": "code",
   "execution_count": 455,
   "metadata": {},
   "outputs": [
    {
     "name": "stdout",
     "output_type": "stream",
     "text": [
      "unknown          60\n",
      "17 and under     49\n",
      "18-25            85\n",
      "26-35           520\n",
      "36-45           768\n",
      "46-55           525\n",
      "56+             298\n",
      "Name: Q3: AGE, dtype: int64\n"
     ]
    }
   ],
   "source": [
    "age_counts = candy['Q3: AGE'].astype('category').value_counts().sort_index()\n",
    "print(age_counts)"
   ]
  },
  {
   "cell_type": "markdown",
   "metadata": {},
   "source": [
    "You can also double check some of your work up to this point by making sure that there are no missing values in the data set anymore."
   ]
  },
  {
   "cell_type": "markdown",
   "metadata": {},
   "source": [
    "**Code Check:** Check to see if there are any missing values in the data set. Your output should show `0`."
   ]
  },
  {
   "cell_type": "code",
   "execution_count": 456,
   "metadata": {},
   "outputs": [
    {
     "data": {
      "text/plain": [
       "Q1: GOING OUT?             0\n",
       "Q2: GENDER                 0\n",
       "Q3: AGE                    0\n",
       "Q4: COUNTRY                0\n",
       "Q6 | 100 Grand Bar         0\n",
       "                          ..\n",
       "Q11: DAY                   0\n",
       "Q12: MEDIA [Daily Dish]    0\n",
       "Q12: MEDIA [Science]       0\n",
       "Q12: MEDIA [ESPN]          0\n",
       "Q12: MEDIA [Yahoo]         0\n",
       "Length: 113, dtype: int64"
      ]
     },
     "execution_count": 456,
     "metadata": {},
     "output_type": "execute_result"
    }
   ],
   "source": [
    "candy.isna().sum()"
   ]
  },
  {
   "cell_type": "markdown",
   "metadata": {},
   "source": [
    "**Exercise19:** Before you move on to the next section, reset the index for `candy` ensuring that it goes from 0 to n-1.  "
   ]
  },
  {
   "cell_type": "code",
   "execution_count": 457,
   "metadata": {},
   "outputs": [
    {
     "data": {
      "text/html": [
       "<div>\n",
       "<style scoped>\n",
       "    .dataframe tbody tr th:only-of-type {\n",
       "        vertical-align: middle;\n",
       "    }\n",
       "\n",
       "    .dataframe tbody tr th {\n",
       "        vertical-align: top;\n",
       "    }\n",
       "\n",
       "    .dataframe thead th {\n",
       "        text-align: right;\n",
       "    }\n",
       "</style>\n",
       "<table border=\"1\" class=\"dataframe\">\n",
       "  <thead>\n",
       "    <tr style=\"text-align: right;\">\n",
       "      <th></th>\n",
       "      <th>Q1: GOING OUT?</th>\n",
       "      <th>Q2: GENDER</th>\n",
       "      <th>Q3: AGE</th>\n",
       "      <th>Q4: COUNTRY</th>\n",
       "      <th>Q6 | 100 Grand Bar</th>\n",
       "      <th>Q6 | Anonymous brown globs that come in black and orange wrappers\\t(a.k.a. Mary Janes)</th>\n",
       "      <th>Q6 | Any full-sized candy bar</th>\n",
       "      <th>Q6 | Black Jacks</th>\n",
       "      <th>Q6 | Bonkers (the candy)</th>\n",
       "      <th>Q6 | Bonkers (the board game)</th>\n",
       "      <th>...</th>\n",
       "      <th>Q6 | Whatchamacallit Bars</th>\n",
       "      <th>Q6 | White Bread</th>\n",
       "      <th>Q6 | Whole Wheat anything</th>\n",
       "      <th>Q6 | York Peppermint Patties</th>\n",
       "      <th>Q10: DRESS</th>\n",
       "      <th>Q11: DAY</th>\n",
       "      <th>Q12: MEDIA [Daily Dish]</th>\n",
       "      <th>Q12: MEDIA [Science]</th>\n",
       "      <th>Q12: MEDIA [ESPN]</th>\n",
       "      <th>Q12: MEDIA [Yahoo]</th>\n",
       "    </tr>\n",
       "  </thead>\n",
       "  <tbody>\n",
       "    <tr>\n",
       "      <th>0</th>\n",
       "      <td>No</td>\n",
       "      <td>Male</td>\n",
       "      <td>36-45</td>\n",
       "      <td>USA</td>\n",
       "      <td>MEH</td>\n",
       "      <td>DESPAIR</td>\n",
       "      <td>JOY</td>\n",
       "      <td>MEH</td>\n",
       "      <td>DESPAIR</td>\n",
       "      <td>DESPAIR</td>\n",
       "      <td>...</td>\n",
       "      <td>DESPAIR</td>\n",
       "      <td>DESPAIR</td>\n",
       "      <td>DESPAIR</td>\n",
       "      <td>DESPAIR</td>\n",
       "      <td>White and gold</td>\n",
       "      <td>Sunday</td>\n",
       "      <td>0.0</td>\n",
       "      <td>1.0</td>\n",
       "      <td>0.0</td>\n",
       "      <td>0.0</td>\n",
       "    </tr>\n",
       "    <tr>\n",
       "      <th>1</th>\n",
       "      <td>No</td>\n",
       "      <td>Male</td>\n",
       "      <td>46-55</td>\n",
       "      <td>USA</td>\n",
       "      <td>NO_ANSWER</td>\n",
       "      <td>NO_ANSWER</td>\n",
       "      <td>NO_ANSWER</td>\n",
       "      <td>NO_ANSWER</td>\n",
       "      <td>NO_ANSWER</td>\n",
       "      <td>NO_ANSWER</td>\n",
       "      <td>...</td>\n",
       "      <td>NO_ANSWER</td>\n",
       "      <td>NO_ANSWER</td>\n",
       "      <td>NO_ANSWER</td>\n",
       "      <td>NO_ANSWER</td>\n",
       "      <td>NO_ANSWER</td>\n",
       "      <td>NO_ANSWER</td>\n",
       "      <td>0.0</td>\n",
       "      <td>0.0</td>\n",
       "      <td>0.0</td>\n",
       "      <td>0.0</td>\n",
       "    </tr>\n",
       "    <tr>\n",
       "      <th>2</th>\n",
       "      <td>No</td>\n",
       "      <td>Male</td>\n",
       "      <td>36-45</td>\n",
       "      <td>USA</td>\n",
       "      <td>MEH</td>\n",
       "      <td>DESPAIR</td>\n",
       "      <td>JOY</td>\n",
       "      <td>MEH</td>\n",
       "      <td>MEH</td>\n",
       "      <td>DESPAIR</td>\n",
       "      <td>...</td>\n",
       "      <td>JOY</td>\n",
       "      <td>DESPAIR</td>\n",
       "      <td>DESPAIR</td>\n",
       "      <td>DESPAIR</td>\n",
       "      <td>White and gold</td>\n",
       "      <td>Sunday</td>\n",
       "      <td>0.0</td>\n",
       "      <td>1.0</td>\n",
       "      <td>0.0</td>\n",
       "      <td>0.0</td>\n",
       "    </tr>\n",
       "    <tr>\n",
       "      <th>3</th>\n",
       "      <td>No</td>\n",
       "      <td>Male</td>\n",
       "      <td>18-25</td>\n",
       "      <td>USA</td>\n",
       "      <td>JOY</td>\n",
       "      <td>DESPAIR</td>\n",
       "      <td>JOY</td>\n",
       "      <td>DESPAIR</td>\n",
       "      <td>MEH</td>\n",
       "      <td>DESPAIR</td>\n",
       "      <td>...</td>\n",
       "      <td>JOY</td>\n",
       "      <td>DESPAIR</td>\n",
       "      <td>DESPAIR</td>\n",
       "      <td>JOY</td>\n",
       "      <td>White and gold</td>\n",
       "      <td>Friday</td>\n",
       "      <td>0.0</td>\n",
       "      <td>1.0</td>\n",
       "      <td>0.0</td>\n",
       "      <td>0.0</td>\n",
       "    </tr>\n",
       "    <tr>\n",
       "      <th>4</th>\n",
       "      <td>No</td>\n",
       "      <td>Male</td>\n",
       "      <td>unknown</td>\n",
       "      <td>Other</td>\n",
       "      <td>JOY</td>\n",
       "      <td>DESPAIR</td>\n",
       "      <td>JOY</td>\n",
       "      <td>NO_ANSWER</td>\n",
       "      <td>NO_ANSWER</td>\n",
       "      <td>NO_ANSWER</td>\n",
       "      <td>...</td>\n",
       "      <td>JOY</td>\n",
       "      <td>DESPAIR</td>\n",
       "      <td>DESPAIR</td>\n",
       "      <td>JOY</td>\n",
       "      <td>NO_ANSWER</td>\n",
       "      <td>NO_ANSWER</td>\n",
       "      <td>0.0</td>\n",
       "      <td>1.0</td>\n",
       "      <td>0.0</td>\n",
       "      <td>0.0</td>\n",
       "    </tr>\n",
       "    <tr>\n",
       "      <th>...</th>\n",
       "      <td>...</td>\n",
       "      <td>...</td>\n",
       "      <td>...</td>\n",
       "      <td>...</td>\n",
       "      <td>...</td>\n",
       "      <td>...</td>\n",
       "      <td>...</td>\n",
       "      <td>...</td>\n",
       "      <td>...</td>\n",
       "      <td>...</td>\n",
       "      <td>...</td>\n",
       "      <td>...</td>\n",
       "      <td>...</td>\n",
       "      <td>...</td>\n",
       "      <td>...</td>\n",
       "      <td>...</td>\n",
       "      <td>...</td>\n",
       "      <td>...</td>\n",
       "      <td>...</td>\n",
       "      <td>...</td>\n",
       "      <td>...</td>\n",
       "    </tr>\n",
       "    <tr>\n",
       "      <th>2300</th>\n",
       "      <td>No</td>\n",
       "      <td>Male</td>\n",
       "      <td>18-25</td>\n",
       "      <td>USA</td>\n",
       "      <td>JOY</td>\n",
       "      <td>DESPAIR</td>\n",
       "      <td>MEH</td>\n",
       "      <td>DESPAIR</td>\n",
       "      <td>DESPAIR</td>\n",
       "      <td>MEH</td>\n",
       "      <td>...</td>\n",
       "      <td>DESPAIR</td>\n",
       "      <td>MEH</td>\n",
       "      <td>DESPAIR</td>\n",
       "      <td>MEH</td>\n",
       "      <td>White and gold</td>\n",
       "      <td>Friday</td>\n",
       "      <td>0.0</td>\n",
       "      <td>0.0</td>\n",
       "      <td>0.0</td>\n",
       "      <td>0.0</td>\n",
       "    </tr>\n",
       "    <tr>\n",
       "      <th>2301</th>\n",
       "      <td>No</td>\n",
       "      <td>Female</td>\n",
       "      <td>26-35</td>\n",
       "      <td>USA</td>\n",
       "      <td>MEH</td>\n",
       "      <td>DESPAIR</td>\n",
       "      <td>JOY</td>\n",
       "      <td>NO_ANSWER</td>\n",
       "      <td>NO_ANSWER</td>\n",
       "      <td>NO_ANSWER</td>\n",
       "      <td>...</td>\n",
       "      <td>JOY</td>\n",
       "      <td>DESPAIR</td>\n",
       "      <td>MEH</td>\n",
       "      <td>JOY</td>\n",
       "      <td>Blue and black</td>\n",
       "      <td>Friday</td>\n",
       "      <td>0.0</td>\n",
       "      <td>1.0</td>\n",
       "      <td>0.0</td>\n",
       "      <td>0.0</td>\n",
       "    </tr>\n",
       "    <tr>\n",
       "      <th>2302</th>\n",
       "      <td>No</td>\n",
       "      <td>Female</td>\n",
       "      <td>26-35</td>\n",
       "      <td>USA</td>\n",
       "      <td>MEH</td>\n",
       "      <td>DESPAIR</td>\n",
       "      <td>JOY</td>\n",
       "      <td>DESPAIR</td>\n",
       "      <td>MEH</td>\n",
       "      <td>JOY</td>\n",
       "      <td>...</td>\n",
       "      <td>MEH</td>\n",
       "      <td>DESPAIR</td>\n",
       "      <td>DESPAIR</td>\n",
       "      <td>MEH</td>\n",
       "      <td>Blue and black</td>\n",
       "      <td>Friday</td>\n",
       "      <td>0.0</td>\n",
       "      <td>1.0</td>\n",
       "      <td>0.0</td>\n",
       "      <td>0.0</td>\n",
       "    </tr>\n",
       "    <tr>\n",
       "      <th>2303</th>\n",
       "      <td>No</td>\n",
       "      <td>Male</td>\n",
       "      <td>56+</td>\n",
       "      <td>USA</td>\n",
       "      <td>NO_ANSWER</td>\n",
       "      <td>NO_ANSWER</td>\n",
       "      <td>NO_ANSWER</td>\n",
       "      <td>NO_ANSWER</td>\n",
       "      <td>NO_ANSWER</td>\n",
       "      <td>NO_ANSWER</td>\n",
       "      <td>...</td>\n",
       "      <td>NO_ANSWER</td>\n",
       "      <td>NO_ANSWER</td>\n",
       "      <td>NO_ANSWER</td>\n",
       "      <td>NO_ANSWER</td>\n",
       "      <td>NO_ANSWER</td>\n",
       "      <td>NO_ANSWER</td>\n",
       "      <td>0.0</td>\n",
       "      <td>0.0</td>\n",
       "      <td>0.0</td>\n",
       "      <td>0.0</td>\n",
       "    </tr>\n",
       "    <tr>\n",
       "      <th>2304</th>\n",
       "      <td>No</td>\n",
       "      <td>Female</td>\n",
       "      <td>56+</td>\n",
       "      <td>USA</td>\n",
       "      <td>DESPAIR</td>\n",
       "      <td>DESPAIR</td>\n",
       "      <td>JOY</td>\n",
       "      <td>DESPAIR</td>\n",
       "      <td>DESPAIR</td>\n",
       "      <td>DESPAIR</td>\n",
       "      <td>...</td>\n",
       "      <td>DESPAIR</td>\n",
       "      <td>MEH</td>\n",
       "      <td>DESPAIR</td>\n",
       "      <td>JOY</td>\n",
       "      <td>White and gold</td>\n",
       "      <td>Sunday</td>\n",
       "      <td>1.0</td>\n",
       "      <td>0.0</td>\n",
       "      <td>0.0</td>\n",
       "      <td>0.0</td>\n",
       "    </tr>\n",
       "  </tbody>\n",
       "</table>\n",
       "<p>2305 rows × 113 columns</p>\n",
       "</div>"
      ],
      "text/plain": [
       "     Q1: GOING OUT? Q2: GENDER  Q3: AGE Q4: COUNTRY Q6 | 100 Grand Bar  \\\n",
       "0                No       Male    36-45         USA                MEH   \n",
       "1                No       Male    46-55         USA          NO_ANSWER   \n",
       "2                No       Male    36-45         USA                MEH   \n",
       "3                No       Male    18-25         USA                JOY   \n",
       "4                No       Male  unknown       Other                JOY   \n",
       "...             ...        ...      ...         ...                ...   \n",
       "2300             No       Male    18-25         USA                JOY   \n",
       "2301             No     Female    26-35         USA                MEH   \n",
       "2302             No     Female    26-35         USA                MEH   \n",
       "2303             No       Male      56+         USA          NO_ANSWER   \n",
       "2304             No     Female      56+         USA            DESPAIR   \n",
       "\n",
       "     Q6 | Anonymous brown globs that come in black and orange wrappers\\t(a.k.a. Mary Janes)  \\\n",
       "0                                               DESPAIR                                       \n",
       "1                                             NO_ANSWER                                       \n",
       "2                                               DESPAIR                                       \n",
       "3                                               DESPAIR                                       \n",
       "4                                               DESPAIR                                       \n",
       "...                                                 ...                                       \n",
       "2300                                            DESPAIR                                       \n",
       "2301                                            DESPAIR                                       \n",
       "2302                                            DESPAIR                                       \n",
       "2303                                          NO_ANSWER                                       \n",
       "2304                                            DESPAIR                                       \n",
       "\n",
       "     Q6 | Any full-sized candy bar Q6 | Black Jacks Q6 | Bonkers (the candy)  \\\n",
       "0                              JOY              MEH                  DESPAIR   \n",
       "1                        NO_ANSWER        NO_ANSWER                NO_ANSWER   \n",
       "2                              JOY              MEH                      MEH   \n",
       "3                              JOY          DESPAIR                      MEH   \n",
       "4                              JOY        NO_ANSWER                NO_ANSWER   \n",
       "...                            ...              ...                      ...   \n",
       "2300                           MEH          DESPAIR                  DESPAIR   \n",
       "2301                           JOY        NO_ANSWER                NO_ANSWER   \n",
       "2302                           JOY          DESPAIR                      MEH   \n",
       "2303                     NO_ANSWER        NO_ANSWER                NO_ANSWER   \n",
       "2304                           JOY          DESPAIR                  DESPAIR   \n",
       "\n",
       "     Q6 | Bonkers (the board game)  ... Q6 | Whatchamacallit Bars  \\\n",
       "0                          DESPAIR  ...                   DESPAIR   \n",
       "1                        NO_ANSWER  ...                 NO_ANSWER   \n",
       "2                          DESPAIR  ...                       JOY   \n",
       "3                          DESPAIR  ...                       JOY   \n",
       "4                        NO_ANSWER  ...                       JOY   \n",
       "...                            ...  ...                       ...   \n",
       "2300                           MEH  ...                   DESPAIR   \n",
       "2301                     NO_ANSWER  ...                       JOY   \n",
       "2302                           JOY  ...                       MEH   \n",
       "2303                     NO_ANSWER  ...                 NO_ANSWER   \n",
       "2304                       DESPAIR  ...                   DESPAIR   \n",
       "\n",
       "     Q6 | White Bread Q6 | Whole Wheat anything Q6 | York Peppermint Patties  \\\n",
       "0             DESPAIR                   DESPAIR                      DESPAIR   \n",
       "1           NO_ANSWER                 NO_ANSWER                    NO_ANSWER   \n",
       "2             DESPAIR                   DESPAIR                      DESPAIR   \n",
       "3             DESPAIR                   DESPAIR                          JOY   \n",
       "4             DESPAIR                   DESPAIR                          JOY   \n",
       "...               ...                       ...                          ...   \n",
       "2300              MEH                   DESPAIR                          MEH   \n",
       "2301          DESPAIR                       MEH                          JOY   \n",
       "2302          DESPAIR                   DESPAIR                          MEH   \n",
       "2303        NO_ANSWER                 NO_ANSWER                    NO_ANSWER   \n",
       "2304              MEH                   DESPAIR                          JOY   \n",
       "\n",
       "          Q10: DRESS   Q11: DAY Q12: MEDIA [Daily Dish] Q12: MEDIA [Science]  \\\n",
       "0     White and gold     Sunday                     0.0                  1.0   \n",
       "1          NO_ANSWER  NO_ANSWER                     0.0                  0.0   \n",
       "2     White and gold     Sunday                     0.0                  1.0   \n",
       "3     White and gold     Friday                     0.0                  1.0   \n",
       "4          NO_ANSWER  NO_ANSWER                     0.0                  1.0   \n",
       "...              ...        ...                     ...                  ...   \n",
       "2300  White and gold     Friday                     0.0                  0.0   \n",
       "2301  Blue and black     Friday                     0.0                  1.0   \n",
       "2302  Blue and black     Friday                     0.0                  1.0   \n",
       "2303       NO_ANSWER  NO_ANSWER                     0.0                  0.0   \n",
       "2304  White and gold     Sunday                     1.0                  0.0   \n",
       "\n",
       "     Q12: MEDIA [ESPN] Q12: MEDIA [Yahoo]  \n",
       "0                  0.0                0.0  \n",
       "1                  0.0                0.0  \n",
       "2                  0.0                0.0  \n",
       "3                  0.0                0.0  \n",
       "4                  0.0                0.0  \n",
       "...                ...                ...  \n",
       "2300               0.0                0.0  \n",
       "2301               0.0                0.0  \n",
       "2302               0.0                0.0  \n",
       "2303               0.0                0.0  \n",
       "2304               0.0                0.0  \n",
       "\n",
       "[2305 rows x 113 columns]"
      ]
     },
     "execution_count": 457,
     "metadata": {},
     "output_type": "execute_result"
    }
   ],
   "source": [
    "candy = candy.reset_index(drop=True)\n",
    "candy"
   ]
  },
  {
   "cell_type": "markdown",
   "metadata": {},
   "source": [
    "## Feature Engineering \n",
    "\n",
    "Feature engineering is the process of transforming raw data into features that better represent the underlying problem to the predictive models.  In this section, we will create a new column called \"net_feelies\" (calculated by the authors as the total joy count minus the total despair count).\n",
    "\n",
    "First, let's narrow down our data to make working with it easier.\n",
    "\n",
    "**Exercise20:** Select only the Q6 candy columns (`Q6 | 100 Grand Bar` through `Q6 | York Peppermint Patties`) in the data set and save this as a new DataFrame called `candy_reduced`."
   ]
  },
  {
   "cell_type": "code",
   "execution_count": 458,
   "metadata": {},
   "outputs": [
    {
     "data": {
      "text/html": [
       "<div>\n",
       "<style scoped>\n",
       "    .dataframe tbody tr th:only-of-type {\n",
       "        vertical-align: middle;\n",
       "    }\n",
       "\n",
       "    .dataframe tbody tr th {\n",
       "        vertical-align: top;\n",
       "    }\n",
       "\n",
       "    .dataframe thead th {\n",
       "        text-align: right;\n",
       "    }\n",
       "</style>\n",
       "<table border=\"1\" class=\"dataframe\">\n",
       "  <thead>\n",
       "    <tr style=\"text-align: right;\">\n",
       "      <th></th>\n",
       "      <th>Q6 | 100 Grand Bar</th>\n",
       "      <th>Q6 | Anonymous brown globs that come in black and orange wrappers\\t(a.k.a. Mary Janes)</th>\n",
       "      <th>Q6 | Any full-sized candy bar</th>\n",
       "      <th>Q6 | Black Jacks</th>\n",
       "      <th>Q6 | Bonkers (the candy)</th>\n",
       "      <th>Q6 | Bonkers (the board game)</th>\n",
       "      <th>Q6 | Bottle Caps</th>\n",
       "      <th>Q6 | Box'o'Raisins</th>\n",
       "      <th>Q6 | Broken glow stick</th>\n",
       "      <th>Q6 | Butterfinger</th>\n",
       "      <th>...</th>\n",
       "      <th>Q6 | Three Musketeers</th>\n",
       "      <th>Q6 | Tolberone something or other</th>\n",
       "      <th>Q6 | Trail Mix</th>\n",
       "      <th>Q6 | Twix</th>\n",
       "      <th>Q6 | Vials of pure high fructose corn syrup, for main-lining into your vein</th>\n",
       "      <th>Q6 | Vicodin</th>\n",
       "      <th>Q6 | Whatchamacallit Bars</th>\n",
       "      <th>Q6 | White Bread</th>\n",
       "      <th>Q6 | Whole Wheat anything</th>\n",
       "      <th>Q6 | York Peppermint Patties</th>\n",
       "    </tr>\n",
       "  </thead>\n",
       "  <tbody>\n",
       "    <tr>\n",
       "      <th>0</th>\n",
       "      <td>MEH</td>\n",
       "      <td>DESPAIR</td>\n",
       "      <td>JOY</td>\n",
       "      <td>MEH</td>\n",
       "      <td>DESPAIR</td>\n",
       "      <td>DESPAIR</td>\n",
       "      <td>DESPAIR</td>\n",
       "      <td>DESPAIR</td>\n",
       "      <td>DESPAIR</td>\n",
       "      <td>DESPAIR</td>\n",
       "      <td>...</td>\n",
       "      <td>JOY</td>\n",
       "      <td>JOY</td>\n",
       "      <td>DESPAIR</td>\n",
       "      <td>JOY</td>\n",
       "      <td>DESPAIR</td>\n",
       "      <td>DESPAIR</td>\n",
       "      <td>DESPAIR</td>\n",
       "      <td>DESPAIR</td>\n",
       "      <td>DESPAIR</td>\n",
       "      <td>DESPAIR</td>\n",
       "    </tr>\n",
       "    <tr>\n",
       "      <th>1</th>\n",
       "      <td>NO_ANSWER</td>\n",
       "      <td>NO_ANSWER</td>\n",
       "      <td>NO_ANSWER</td>\n",
       "      <td>NO_ANSWER</td>\n",
       "      <td>NO_ANSWER</td>\n",
       "      <td>NO_ANSWER</td>\n",
       "      <td>NO_ANSWER</td>\n",
       "      <td>NO_ANSWER</td>\n",
       "      <td>NO_ANSWER</td>\n",
       "      <td>NO_ANSWER</td>\n",
       "      <td>...</td>\n",
       "      <td>NO_ANSWER</td>\n",
       "      <td>NO_ANSWER</td>\n",
       "      <td>NO_ANSWER</td>\n",
       "      <td>NO_ANSWER</td>\n",
       "      <td>NO_ANSWER</td>\n",
       "      <td>NO_ANSWER</td>\n",
       "      <td>NO_ANSWER</td>\n",
       "      <td>NO_ANSWER</td>\n",
       "      <td>NO_ANSWER</td>\n",
       "      <td>NO_ANSWER</td>\n",
       "    </tr>\n",
       "    <tr>\n",
       "      <th>2</th>\n",
       "      <td>MEH</td>\n",
       "      <td>DESPAIR</td>\n",
       "      <td>JOY</td>\n",
       "      <td>MEH</td>\n",
       "      <td>MEH</td>\n",
       "      <td>DESPAIR</td>\n",
       "      <td>MEH</td>\n",
       "      <td>DESPAIR</td>\n",
       "      <td>DESPAIR</td>\n",
       "      <td>MEH</td>\n",
       "      <td>...</td>\n",
       "      <td>DESPAIR</td>\n",
       "      <td>JOY</td>\n",
       "      <td>MEH</td>\n",
       "      <td>JOY</td>\n",
       "      <td>DESPAIR</td>\n",
       "      <td>JOY</td>\n",
       "      <td>JOY</td>\n",
       "      <td>DESPAIR</td>\n",
       "      <td>DESPAIR</td>\n",
       "      <td>DESPAIR</td>\n",
       "    </tr>\n",
       "    <tr>\n",
       "      <th>3</th>\n",
       "      <td>JOY</td>\n",
       "      <td>DESPAIR</td>\n",
       "      <td>JOY</td>\n",
       "      <td>DESPAIR</td>\n",
       "      <td>MEH</td>\n",
       "      <td>DESPAIR</td>\n",
       "      <td>MEH</td>\n",
       "      <td>DESPAIR</td>\n",
       "      <td>DESPAIR</td>\n",
       "      <td>MEH</td>\n",
       "      <td>...</td>\n",
       "      <td>JOY</td>\n",
       "      <td>JOY</td>\n",
       "      <td>DESPAIR</td>\n",
       "      <td>JOY</td>\n",
       "      <td>MEH</td>\n",
       "      <td>JOY</td>\n",
       "      <td>JOY</td>\n",
       "      <td>DESPAIR</td>\n",
       "      <td>DESPAIR</td>\n",
       "      <td>JOY</td>\n",
       "    </tr>\n",
       "    <tr>\n",
       "      <th>4</th>\n",
       "      <td>JOY</td>\n",
       "      <td>DESPAIR</td>\n",
       "      <td>JOY</td>\n",
       "      <td>NO_ANSWER</td>\n",
       "      <td>NO_ANSWER</td>\n",
       "      <td>NO_ANSWER</td>\n",
       "      <td>MEH</td>\n",
       "      <td>MEH</td>\n",
       "      <td>DESPAIR</td>\n",
       "      <td>JOY</td>\n",
       "      <td>...</td>\n",
       "      <td>JOY</td>\n",
       "      <td>JOY</td>\n",
       "      <td>MEH</td>\n",
       "      <td>JOY</td>\n",
       "      <td>DESPAIR</td>\n",
       "      <td>DESPAIR</td>\n",
       "      <td>JOY</td>\n",
       "      <td>DESPAIR</td>\n",
       "      <td>DESPAIR</td>\n",
       "      <td>JOY</td>\n",
       "    </tr>\n",
       "  </tbody>\n",
       "</table>\n",
       "<p>5 rows × 103 columns</p>\n",
       "</div>"
      ],
      "text/plain": [
       "  Q6 | 100 Grand Bar  \\\n",
       "0                MEH   \n",
       "1          NO_ANSWER   \n",
       "2                MEH   \n",
       "3                JOY   \n",
       "4                JOY   \n",
       "\n",
       "  Q6 | Anonymous brown globs that come in black and orange wrappers\\t(a.k.a. Mary Janes)  \\\n",
       "0                                            DESPAIR                                       \n",
       "1                                          NO_ANSWER                                       \n",
       "2                                            DESPAIR                                       \n",
       "3                                            DESPAIR                                       \n",
       "4                                            DESPAIR                                       \n",
       "\n",
       "  Q6 | Any full-sized candy bar Q6 | Black Jacks Q6 | Bonkers (the candy)  \\\n",
       "0                           JOY              MEH                  DESPAIR   \n",
       "1                     NO_ANSWER        NO_ANSWER                NO_ANSWER   \n",
       "2                           JOY              MEH                      MEH   \n",
       "3                           JOY          DESPAIR                      MEH   \n",
       "4                           JOY        NO_ANSWER                NO_ANSWER   \n",
       "\n",
       "  Q6 | Bonkers (the board game) Q6 | Bottle Caps Q6 | Box'o'Raisins  \\\n",
       "0                       DESPAIR          DESPAIR            DESPAIR   \n",
       "1                     NO_ANSWER        NO_ANSWER          NO_ANSWER   \n",
       "2                       DESPAIR              MEH            DESPAIR   \n",
       "3                       DESPAIR              MEH            DESPAIR   \n",
       "4                     NO_ANSWER              MEH                MEH   \n",
       "\n",
       "  Q6 | Broken glow stick Q6 | Butterfinger  ... Q6 | Three Musketeers  \\\n",
       "0                DESPAIR           DESPAIR  ...                   JOY   \n",
       "1              NO_ANSWER         NO_ANSWER  ...             NO_ANSWER   \n",
       "2                DESPAIR               MEH  ...               DESPAIR   \n",
       "3                DESPAIR               MEH  ...                   JOY   \n",
       "4                DESPAIR               JOY  ...                   JOY   \n",
       "\n",
       "  Q6 | Tolberone something or other Q6 | Trail Mix  Q6 | Twix  \\\n",
       "0                               JOY        DESPAIR        JOY   \n",
       "1                         NO_ANSWER      NO_ANSWER  NO_ANSWER   \n",
       "2                               JOY            MEH        JOY   \n",
       "3                               JOY        DESPAIR        JOY   \n",
       "4                               JOY            MEH        JOY   \n",
       "\n",
       "  Q6 | Vials of pure high fructose corn syrup, for main-lining into your vein  \\\n",
       "0                                            DESPAIR                            \n",
       "1                                          NO_ANSWER                            \n",
       "2                                            DESPAIR                            \n",
       "3                                                MEH                            \n",
       "4                                            DESPAIR                            \n",
       "\n",
       "  Q6 | Vicodin Q6 | Whatchamacallit Bars Q6 | White Bread  \\\n",
       "0      DESPAIR                   DESPAIR          DESPAIR   \n",
       "1    NO_ANSWER                 NO_ANSWER        NO_ANSWER   \n",
       "2          JOY                       JOY          DESPAIR   \n",
       "3          JOY                       JOY          DESPAIR   \n",
       "4      DESPAIR                       JOY          DESPAIR   \n",
       "\n",
       "  Q6 | Whole Wheat anything Q6 | York Peppermint Patties  \n",
       "0                   DESPAIR                      DESPAIR  \n",
       "1                 NO_ANSWER                    NO_ANSWER  \n",
       "2                   DESPAIR                      DESPAIR  \n",
       "3                   DESPAIR                          JOY  \n",
       "4                   DESPAIR                          JOY  \n",
       "\n",
       "[5 rows x 103 columns]"
      ]
     },
     "execution_count": 458,
     "metadata": {},
     "output_type": "execute_result"
    }
   ],
   "source": [
    "candy_reduced = candy.loc[:, 'Q6 | 100 Grand Bar':'Q6 | York Peppermint Patties']\n",
    "candy_reduced.head()"
   ]
  },
  {
   "cell_type": "markdown",
   "metadata": {},
   "source": [
    "Next, we will create two Series, one with JOY counts and one with DESPAIR counts to add to our `candy_reduced` data.\n",
    "\n",
    "**Exercise21:** Create a Series called `joy_count` that lists total counts for JOY for each column, making sure to keep it in the same order as the columns in the `candy_reduced` DataFrame. Hint: A simple way to do this is to filter the entire DataFrame for any `JOY` values and then use `count()`. See this [stackoverflow question](https://stackoverflow.com/questions/63103090/how-do-i-count-specific-values-across-multiple-columns-in-pandas) and answers."
   ]
  },
  {
   "cell_type": "code",
   "execution_count": 459,
   "metadata": {},
   "outputs": [
    {
     "data": {
      "text/plain": [
       "Q6 | 100 Grand Bar                                                                         828\n",
       "Q6 | Anonymous brown globs that come in black and orange wrappers\\t(a.k.a. Mary Janes)     165\n",
       "Q6 | Any full-sized candy bar                                                             1477\n",
       "Q6 | Black Jacks                                                                            87\n",
       "Q6 | Bonkers (the candy)                                                                   109\n",
       "                                                                                          ... \n",
       "Q6 | Vicodin                                                                               674\n",
       "Q6 | Whatchamacallit Bars                                                                  802\n",
       "Q6 | White Bread                                                                            43\n",
       "Q6 | Whole Wheat anything                                                                  110\n",
       "Q6 | York Peppermint Patties                                                              1040\n",
       "Length: 103, dtype: int64"
      ]
     },
     "execution_count": 459,
     "metadata": {},
     "output_type": "execute_result"
    }
   ],
   "source": [
    "joy_count = candy_reduced.apply(lambda x: x.str.contains('JOY', na=False).sum())\n",
    "joy_count"
   ]
  },
  {
   "cell_type": "markdown",
   "metadata": {},
   "source": [
    "**Exercise22:** Same as above except you will create a Series called `despair_count` that lists the total counts for DESPAIR for each column."
   ]
  },
  {
   "cell_type": "code",
   "execution_count": 460,
   "metadata": {},
   "outputs": [
    {
     "data": {
      "text/plain": [
       "Q6 | 100 Grand Bar                                                                          80\n",
       "Q6 | Anonymous brown globs that come in black and orange wrappers\\t(a.k.a. Mary Janes)    1017\n",
       "Q6 | Any full-sized candy bar                                                               15\n",
       "Q6 | Black Jacks                                                                           754\n",
       "Q6 | Bonkers (the candy)                                                                   467\n",
       "                                                                                          ... \n",
       "Q6 | Vicodin                                                                               679\n",
       "Q6 | Whatchamacallit Bars                                                                  273\n",
       "Q6 | White Bread                                                                          1376\n",
       "Q6 | Whole Wheat anything                                                                 1233\n",
       "Q6 | York Peppermint Patties                                                               222\n",
       "Length: 103, dtype: int64"
      ]
     },
     "execution_count": 460,
     "metadata": {},
     "output_type": "execute_result"
    }
   ],
   "source": [
    "despair_count = candy_reduced.apply(lambda x: x.str.contains('DESPAIR', na=False).sum())\n",
    "despair_count"
   ]
  },
  {
   "cell_type": "markdown",
   "metadata": {},
   "source": [
    "**Exercise23:** Take the transpose of the `candy_reduced` DataFrame and save this transposed data as `candy_reduced_transpose`."
   ]
  },
  {
   "cell_type": "code",
   "execution_count": 461,
   "metadata": {},
   "outputs": [
    {
     "data": {
      "text/html": [
       "<div>\n",
       "<style scoped>\n",
       "    .dataframe tbody tr th:only-of-type {\n",
       "        vertical-align: middle;\n",
       "    }\n",
       "\n",
       "    .dataframe tbody tr th {\n",
       "        vertical-align: top;\n",
       "    }\n",
       "\n",
       "    .dataframe thead th {\n",
       "        text-align: right;\n",
       "    }\n",
       "</style>\n",
       "<table border=\"1\" class=\"dataframe\">\n",
       "  <thead>\n",
       "    <tr style=\"text-align: right;\">\n",
       "      <th></th>\n",
       "      <th>0</th>\n",
       "      <th>1</th>\n",
       "      <th>2</th>\n",
       "      <th>3</th>\n",
       "      <th>4</th>\n",
       "      <th>5</th>\n",
       "      <th>6</th>\n",
       "      <th>7</th>\n",
       "      <th>8</th>\n",
       "      <th>9</th>\n",
       "      <th>...</th>\n",
       "      <th>2295</th>\n",
       "      <th>2296</th>\n",
       "      <th>2297</th>\n",
       "      <th>2298</th>\n",
       "      <th>2299</th>\n",
       "      <th>2300</th>\n",
       "      <th>2301</th>\n",
       "      <th>2302</th>\n",
       "      <th>2303</th>\n",
       "      <th>2304</th>\n",
       "    </tr>\n",
       "  </thead>\n",
       "  <tbody>\n",
       "    <tr>\n",
       "      <th>Q6 | 100 Grand Bar</th>\n",
       "      <td>MEH</td>\n",
       "      <td>NO_ANSWER</td>\n",
       "      <td>MEH</td>\n",
       "      <td>JOY</td>\n",
       "      <td>JOY</td>\n",
       "      <td>NO_ANSWER</td>\n",
       "      <td>JOY</td>\n",
       "      <td>JOY</td>\n",
       "      <td>MEH</td>\n",
       "      <td>NO_ANSWER</td>\n",
       "      <td>...</td>\n",
       "      <td>NO_ANSWER</td>\n",
       "      <td>NO_ANSWER</td>\n",
       "      <td>JOY</td>\n",
       "      <td>MEH</td>\n",
       "      <td>JOY</td>\n",
       "      <td>JOY</td>\n",
       "      <td>MEH</td>\n",
       "      <td>MEH</td>\n",
       "      <td>NO_ANSWER</td>\n",
       "      <td>DESPAIR</td>\n",
       "    </tr>\n",
       "    <tr>\n",
       "      <th>Q6 | Anonymous brown globs that come in black and orange wrappers\\t(a.k.a. Mary Janes)</th>\n",
       "      <td>DESPAIR</td>\n",
       "      <td>NO_ANSWER</td>\n",
       "      <td>DESPAIR</td>\n",
       "      <td>DESPAIR</td>\n",
       "      <td>DESPAIR</td>\n",
       "      <td>NO_ANSWER</td>\n",
       "      <td>DESPAIR</td>\n",
       "      <td>DESPAIR</td>\n",
       "      <td>DESPAIR</td>\n",
       "      <td>NO_ANSWER</td>\n",
       "      <td>...</td>\n",
       "      <td>NO_ANSWER</td>\n",
       "      <td>NO_ANSWER</td>\n",
       "      <td>DESPAIR</td>\n",
       "      <td>DESPAIR</td>\n",
       "      <td>MEH</td>\n",
       "      <td>DESPAIR</td>\n",
       "      <td>DESPAIR</td>\n",
       "      <td>DESPAIR</td>\n",
       "      <td>NO_ANSWER</td>\n",
       "      <td>DESPAIR</td>\n",
       "    </tr>\n",
       "    <tr>\n",
       "      <th>Q6 | Any full-sized candy bar</th>\n",
       "      <td>JOY</td>\n",
       "      <td>NO_ANSWER</td>\n",
       "      <td>JOY</td>\n",
       "      <td>JOY</td>\n",
       "      <td>JOY</td>\n",
       "      <td>NO_ANSWER</td>\n",
       "      <td>JOY</td>\n",
       "      <td>JOY</td>\n",
       "      <td>JOY</td>\n",
       "      <td>NO_ANSWER</td>\n",
       "      <td>...</td>\n",
       "      <td>NO_ANSWER</td>\n",
       "      <td>NO_ANSWER</td>\n",
       "      <td>JOY</td>\n",
       "      <td>JOY</td>\n",
       "      <td>JOY</td>\n",
       "      <td>MEH</td>\n",
       "      <td>JOY</td>\n",
       "      <td>JOY</td>\n",
       "      <td>NO_ANSWER</td>\n",
       "      <td>JOY</td>\n",
       "    </tr>\n",
       "    <tr>\n",
       "      <th>Q6 | Black Jacks</th>\n",
       "      <td>MEH</td>\n",
       "      <td>NO_ANSWER</td>\n",
       "      <td>MEH</td>\n",
       "      <td>DESPAIR</td>\n",
       "      <td>NO_ANSWER</td>\n",
       "      <td>NO_ANSWER</td>\n",
       "      <td>DESPAIR</td>\n",
       "      <td>MEH</td>\n",
       "      <td>MEH</td>\n",
       "      <td>NO_ANSWER</td>\n",
       "      <td>...</td>\n",
       "      <td>NO_ANSWER</td>\n",
       "      <td>NO_ANSWER</td>\n",
       "      <td>DESPAIR</td>\n",
       "      <td>DESPAIR</td>\n",
       "      <td>DESPAIR</td>\n",
       "      <td>DESPAIR</td>\n",
       "      <td>NO_ANSWER</td>\n",
       "      <td>DESPAIR</td>\n",
       "      <td>NO_ANSWER</td>\n",
       "      <td>DESPAIR</td>\n",
       "    </tr>\n",
       "    <tr>\n",
       "      <th>Q6 | Bonkers (the candy)</th>\n",
       "      <td>DESPAIR</td>\n",
       "      <td>NO_ANSWER</td>\n",
       "      <td>MEH</td>\n",
       "      <td>MEH</td>\n",
       "      <td>NO_ANSWER</td>\n",
       "      <td>NO_ANSWER</td>\n",
       "      <td>DESPAIR</td>\n",
       "      <td>MEH</td>\n",
       "      <td>MEH</td>\n",
       "      <td>NO_ANSWER</td>\n",
       "      <td>...</td>\n",
       "      <td>NO_ANSWER</td>\n",
       "      <td>NO_ANSWER</td>\n",
       "      <td>MEH</td>\n",
       "      <td>MEH</td>\n",
       "      <td>MEH</td>\n",
       "      <td>DESPAIR</td>\n",
       "      <td>NO_ANSWER</td>\n",
       "      <td>MEH</td>\n",
       "      <td>NO_ANSWER</td>\n",
       "      <td>DESPAIR</td>\n",
       "    </tr>\n",
       "    <tr>\n",
       "      <th>...</th>\n",
       "      <td>...</td>\n",
       "      <td>...</td>\n",
       "      <td>...</td>\n",
       "      <td>...</td>\n",
       "      <td>...</td>\n",
       "      <td>...</td>\n",
       "      <td>...</td>\n",
       "      <td>...</td>\n",
       "      <td>...</td>\n",
       "      <td>...</td>\n",
       "      <td>...</td>\n",
       "      <td>...</td>\n",
       "      <td>...</td>\n",
       "      <td>...</td>\n",
       "      <td>...</td>\n",
       "      <td>...</td>\n",
       "      <td>...</td>\n",
       "      <td>...</td>\n",
       "      <td>...</td>\n",
       "      <td>...</td>\n",
       "      <td>...</td>\n",
       "    </tr>\n",
       "    <tr>\n",
       "      <th>Q6 | Vicodin</th>\n",
       "      <td>DESPAIR</td>\n",
       "      <td>NO_ANSWER</td>\n",
       "      <td>JOY</td>\n",
       "      <td>JOY</td>\n",
       "      <td>DESPAIR</td>\n",
       "      <td>NO_ANSWER</td>\n",
       "      <td>MEH</td>\n",
       "      <td>DESPAIR</td>\n",
       "      <td>DESPAIR</td>\n",
       "      <td>NO_ANSWER</td>\n",
       "      <td>...</td>\n",
       "      <td>NO_ANSWER</td>\n",
       "      <td>NO_ANSWER</td>\n",
       "      <td>JOY</td>\n",
       "      <td>DESPAIR</td>\n",
       "      <td>MEH</td>\n",
       "      <td>JOY</td>\n",
       "      <td>NO_ANSWER</td>\n",
       "      <td>JOY</td>\n",
       "      <td>NO_ANSWER</td>\n",
       "      <td>JOY</td>\n",
       "    </tr>\n",
       "    <tr>\n",
       "      <th>Q6 | Whatchamacallit Bars</th>\n",
       "      <td>DESPAIR</td>\n",
       "      <td>NO_ANSWER</td>\n",
       "      <td>JOY</td>\n",
       "      <td>JOY</td>\n",
       "      <td>JOY</td>\n",
       "      <td>NO_ANSWER</td>\n",
       "      <td>DESPAIR</td>\n",
       "      <td>MEH</td>\n",
       "      <td>MEH</td>\n",
       "      <td>NO_ANSWER</td>\n",
       "      <td>...</td>\n",
       "      <td>NO_ANSWER</td>\n",
       "      <td>NO_ANSWER</td>\n",
       "      <td>MEH</td>\n",
       "      <td>NO_ANSWER</td>\n",
       "      <td>JOY</td>\n",
       "      <td>DESPAIR</td>\n",
       "      <td>JOY</td>\n",
       "      <td>MEH</td>\n",
       "      <td>NO_ANSWER</td>\n",
       "      <td>DESPAIR</td>\n",
       "    </tr>\n",
       "    <tr>\n",
       "      <th>Q6 | White Bread</th>\n",
       "      <td>DESPAIR</td>\n",
       "      <td>NO_ANSWER</td>\n",
       "      <td>DESPAIR</td>\n",
       "      <td>DESPAIR</td>\n",
       "      <td>DESPAIR</td>\n",
       "      <td>NO_ANSWER</td>\n",
       "      <td>DESPAIR</td>\n",
       "      <td>DESPAIR</td>\n",
       "      <td>DESPAIR</td>\n",
       "      <td>NO_ANSWER</td>\n",
       "      <td>...</td>\n",
       "      <td>NO_ANSWER</td>\n",
       "      <td>NO_ANSWER</td>\n",
       "      <td>DESPAIR</td>\n",
       "      <td>DESPAIR</td>\n",
       "      <td>MEH</td>\n",
       "      <td>MEH</td>\n",
       "      <td>DESPAIR</td>\n",
       "      <td>DESPAIR</td>\n",
       "      <td>NO_ANSWER</td>\n",
       "      <td>MEH</td>\n",
       "    </tr>\n",
       "    <tr>\n",
       "      <th>Q6 | Whole Wheat anything</th>\n",
       "      <td>DESPAIR</td>\n",
       "      <td>NO_ANSWER</td>\n",
       "      <td>DESPAIR</td>\n",
       "      <td>DESPAIR</td>\n",
       "      <td>DESPAIR</td>\n",
       "      <td>NO_ANSWER</td>\n",
       "      <td>DESPAIR</td>\n",
       "      <td>DESPAIR</td>\n",
       "      <td>DESPAIR</td>\n",
       "      <td>NO_ANSWER</td>\n",
       "      <td>...</td>\n",
       "      <td>NO_ANSWER</td>\n",
       "      <td>NO_ANSWER</td>\n",
       "      <td>MEH</td>\n",
       "      <td>DESPAIR</td>\n",
       "      <td>MEH</td>\n",
       "      <td>DESPAIR</td>\n",
       "      <td>MEH</td>\n",
       "      <td>DESPAIR</td>\n",
       "      <td>NO_ANSWER</td>\n",
       "      <td>DESPAIR</td>\n",
       "    </tr>\n",
       "    <tr>\n",
       "      <th>Q6 | York Peppermint Patties</th>\n",
       "      <td>DESPAIR</td>\n",
       "      <td>NO_ANSWER</td>\n",
       "      <td>DESPAIR</td>\n",
       "      <td>JOY</td>\n",
       "      <td>JOY</td>\n",
       "      <td>NO_ANSWER</td>\n",
       "      <td>DESPAIR</td>\n",
       "      <td>DESPAIR</td>\n",
       "      <td>MEH</td>\n",
       "      <td>NO_ANSWER</td>\n",
       "      <td>...</td>\n",
       "      <td>NO_ANSWER</td>\n",
       "      <td>NO_ANSWER</td>\n",
       "      <td>MEH</td>\n",
       "      <td>JOY</td>\n",
       "      <td>JOY</td>\n",
       "      <td>MEH</td>\n",
       "      <td>JOY</td>\n",
       "      <td>MEH</td>\n",
       "      <td>NO_ANSWER</td>\n",
       "      <td>JOY</td>\n",
       "    </tr>\n",
       "  </tbody>\n",
       "</table>\n",
       "<p>103 rows × 2305 columns</p>\n",
       "</div>"
      ],
      "text/plain": [
       "                                                       0          1     \\\n",
       "Q6 | 100 Grand Bar                                      MEH  NO_ANSWER   \n",
       "Q6 | Anonymous brown globs that come in black a...  DESPAIR  NO_ANSWER   \n",
       "Q6 | Any full-sized candy bar                           JOY  NO_ANSWER   \n",
       "Q6 | Black Jacks                                        MEH  NO_ANSWER   \n",
       "Q6 | Bonkers (the candy)                            DESPAIR  NO_ANSWER   \n",
       "...                                                     ...        ...   \n",
       "Q6 | Vicodin                                        DESPAIR  NO_ANSWER   \n",
       "Q6 | Whatchamacallit Bars                           DESPAIR  NO_ANSWER   \n",
       "Q6 | White Bread                                    DESPAIR  NO_ANSWER   \n",
       "Q6 | Whole Wheat anything                           DESPAIR  NO_ANSWER   \n",
       "Q6 | York Peppermint Patties                        DESPAIR  NO_ANSWER   \n",
       "\n",
       "                                                       2        3     \\\n",
       "Q6 | 100 Grand Bar                                      MEH      JOY   \n",
       "Q6 | Anonymous brown globs that come in black a...  DESPAIR  DESPAIR   \n",
       "Q6 | Any full-sized candy bar                           JOY      JOY   \n",
       "Q6 | Black Jacks                                        MEH  DESPAIR   \n",
       "Q6 | Bonkers (the candy)                                MEH      MEH   \n",
       "...                                                     ...      ...   \n",
       "Q6 | Vicodin                                            JOY      JOY   \n",
       "Q6 | Whatchamacallit Bars                               JOY      JOY   \n",
       "Q6 | White Bread                                    DESPAIR  DESPAIR   \n",
       "Q6 | Whole Wheat anything                           DESPAIR  DESPAIR   \n",
       "Q6 | York Peppermint Patties                        DESPAIR      JOY   \n",
       "\n",
       "                                                         4          5     \\\n",
       "Q6 | 100 Grand Bar                                        JOY  NO_ANSWER   \n",
       "Q6 | Anonymous brown globs that come in black a...    DESPAIR  NO_ANSWER   \n",
       "Q6 | Any full-sized candy bar                             JOY  NO_ANSWER   \n",
       "Q6 | Black Jacks                                    NO_ANSWER  NO_ANSWER   \n",
       "Q6 | Bonkers (the candy)                            NO_ANSWER  NO_ANSWER   \n",
       "...                                                       ...        ...   \n",
       "Q6 | Vicodin                                          DESPAIR  NO_ANSWER   \n",
       "Q6 | Whatchamacallit Bars                                 JOY  NO_ANSWER   \n",
       "Q6 | White Bread                                      DESPAIR  NO_ANSWER   \n",
       "Q6 | Whole Wheat anything                             DESPAIR  NO_ANSWER   \n",
       "Q6 | York Peppermint Patties                              JOY  NO_ANSWER   \n",
       "\n",
       "                                                       6        7        8     \\\n",
       "Q6 | 100 Grand Bar                                      JOY      JOY      MEH   \n",
       "Q6 | Anonymous brown globs that come in black a...  DESPAIR  DESPAIR  DESPAIR   \n",
       "Q6 | Any full-sized candy bar                           JOY      JOY      JOY   \n",
       "Q6 | Black Jacks                                    DESPAIR      MEH      MEH   \n",
       "Q6 | Bonkers (the candy)                            DESPAIR      MEH      MEH   \n",
       "...                                                     ...      ...      ...   \n",
       "Q6 | Vicodin                                            MEH  DESPAIR  DESPAIR   \n",
       "Q6 | Whatchamacallit Bars                           DESPAIR      MEH      MEH   \n",
       "Q6 | White Bread                                    DESPAIR  DESPAIR  DESPAIR   \n",
       "Q6 | Whole Wheat anything                           DESPAIR  DESPAIR  DESPAIR   \n",
       "Q6 | York Peppermint Patties                        DESPAIR  DESPAIR      MEH   \n",
       "\n",
       "                                                         9     ...       2295  \\\n",
       "Q6 | 100 Grand Bar                                  NO_ANSWER  ...  NO_ANSWER   \n",
       "Q6 | Anonymous brown globs that come in black a...  NO_ANSWER  ...  NO_ANSWER   \n",
       "Q6 | Any full-sized candy bar                       NO_ANSWER  ...  NO_ANSWER   \n",
       "Q6 | Black Jacks                                    NO_ANSWER  ...  NO_ANSWER   \n",
       "Q6 | Bonkers (the candy)                            NO_ANSWER  ...  NO_ANSWER   \n",
       "...                                                       ...  ...        ...   \n",
       "Q6 | Vicodin                                        NO_ANSWER  ...  NO_ANSWER   \n",
       "Q6 | Whatchamacallit Bars                           NO_ANSWER  ...  NO_ANSWER   \n",
       "Q6 | White Bread                                    NO_ANSWER  ...  NO_ANSWER   \n",
       "Q6 | Whole Wheat anything                           NO_ANSWER  ...  NO_ANSWER   \n",
       "Q6 | York Peppermint Patties                        NO_ANSWER  ...  NO_ANSWER   \n",
       "\n",
       "                                                         2296     2297  \\\n",
       "Q6 | 100 Grand Bar                                  NO_ANSWER      JOY   \n",
       "Q6 | Anonymous brown globs that come in black a...  NO_ANSWER  DESPAIR   \n",
       "Q6 | Any full-sized candy bar                       NO_ANSWER      JOY   \n",
       "Q6 | Black Jacks                                    NO_ANSWER  DESPAIR   \n",
       "Q6 | Bonkers (the candy)                            NO_ANSWER      MEH   \n",
       "...                                                       ...      ...   \n",
       "Q6 | Vicodin                                        NO_ANSWER      JOY   \n",
       "Q6 | Whatchamacallit Bars                           NO_ANSWER      MEH   \n",
       "Q6 | White Bread                                    NO_ANSWER  DESPAIR   \n",
       "Q6 | Whole Wheat anything                           NO_ANSWER      MEH   \n",
       "Q6 | York Peppermint Patties                        NO_ANSWER      MEH   \n",
       "\n",
       "                                                         2298     2299  \\\n",
       "Q6 | 100 Grand Bar                                        MEH      JOY   \n",
       "Q6 | Anonymous brown globs that come in black a...    DESPAIR      MEH   \n",
       "Q6 | Any full-sized candy bar                             JOY      JOY   \n",
       "Q6 | Black Jacks                                      DESPAIR  DESPAIR   \n",
       "Q6 | Bonkers (the candy)                                  MEH      MEH   \n",
       "...                                                       ...      ...   \n",
       "Q6 | Vicodin                                          DESPAIR      MEH   \n",
       "Q6 | Whatchamacallit Bars                           NO_ANSWER      JOY   \n",
       "Q6 | White Bread                                      DESPAIR      MEH   \n",
       "Q6 | Whole Wheat anything                             DESPAIR      MEH   \n",
       "Q6 | York Peppermint Patties                              JOY      JOY   \n",
       "\n",
       "                                                       2300       2301  \\\n",
       "Q6 | 100 Grand Bar                                      JOY        MEH   \n",
       "Q6 | Anonymous brown globs that come in black a...  DESPAIR    DESPAIR   \n",
       "Q6 | Any full-sized candy bar                           MEH        JOY   \n",
       "Q6 | Black Jacks                                    DESPAIR  NO_ANSWER   \n",
       "Q6 | Bonkers (the candy)                            DESPAIR  NO_ANSWER   \n",
       "...                                                     ...        ...   \n",
       "Q6 | Vicodin                                            JOY  NO_ANSWER   \n",
       "Q6 | Whatchamacallit Bars                           DESPAIR        JOY   \n",
       "Q6 | White Bread                                        MEH    DESPAIR   \n",
       "Q6 | Whole Wheat anything                           DESPAIR        MEH   \n",
       "Q6 | York Peppermint Patties                            MEH        JOY   \n",
       "\n",
       "                                                       2302       2303  \\\n",
       "Q6 | 100 Grand Bar                                      MEH  NO_ANSWER   \n",
       "Q6 | Anonymous brown globs that come in black a...  DESPAIR  NO_ANSWER   \n",
       "Q6 | Any full-sized candy bar                           JOY  NO_ANSWER   \n",
       "Q6 | Black Jacks                                    DESPAIR  NO_ANSWER   \n",
       "Q6 | Bonkers (the candy)                                MEH  NO_ANSWER   \n",
       "...                                                     ...        ...   \n",
       "Q6 | Vicodin                                            JOY  NO_ANSWER   \n",
       "Q6 | Whatchamacallit Bars                               MEH  NO_ANSWER   \n",
       "Q6 | White Bread                                    DESPAIR  NO_ANSWER   \n",
       "Q6 | Whole Wheat anything                           DESPAIR  NO_ANSWER   \n",
       "Q6 | York Peppermint Patties                            MEH  NO_ANSWER   \n",
       "\n",
       "                                                       2304  \n",
       "Q6 | 100 Grand Bar                                  DESPAIR  \n",
       "Q6 | Anonymous brown globs that come in black a...  DESPAIR  \n",
       "Q6 | Any full-sized candy bar                           JOY  \n",
       "Q6 | Black Jacks                                    DESPAIR  \n",
       "Q6 | Bonkers (the candy)                            DESPAIR  \n",
       "...                                                     ...  \n",
       "Q6 | Vicodin                                            JOY  \n",
       "Q6 | Whatchamacallit Bars                           DESPAIR  \n",
       "Q6 | White Bread                                        MEH  \n",
       "Q6 | Whole Wheat anything                           DESPAIR  \n",
       "Q6 | York Peppermint Patties                            JOY  \n",
       "\n",
       "[103 rows x 2305 columns]"
      ]
     },
     "execution_count": 461,
     "metadata": {},
     "output_type": "execute_result"
    }
   ],
   "source": [
    "candy_reduced_transpose=candy_reduced.T\n",
    "candy_reduced_transpose"
   ]
  },
  {
   "cell_type": "markdown",
   "metadata": {},
   "source": [
    "**Exercise24:** Add a new column called \"joy_count\" using the `joy_count` Series above and a new column called 'despair_count\" using the `despair_count` Series above to the `candy_reduced_transpose` DataFrame."
   ]
  },
  {
   "cell_type": "code",
   "execution_count": 462,
   "metadata": {},
   "outputs": [],
   "source": [
    "candy_reduced_transpose['joy_count'] = joy_count.values\n",
    "candy_reduced_transpose['despair_count'] = despair_count.values"
   ]
  },
  {
   "cell_type": "markdown",
   "metadata": {},
   "source": [
    "**Exercise25:** Add a new column to the `candy_reduced_transpose` DataFrame called \"net_feelies\" that takes the `joy_count` column and subtracts the `despair_count` column."
   ]
  },
  {
   "cell_type": "code",
   "execution_count": 463,
   "metadata": {},
   "outputs": [],
   "source": [
    "candy_reduced_transpose['net_feelies'] = candy_reduced_transpose['joy_count'] - candy_reduced_transpose['despair_count']\n"
   ]
  },
  {
   "cell_type": "markdown",
   "metadata": {},
   "source": [
    "**Exercise26:** Select only the `joy_count`, `despair_count`, and `net_feelies` columns from the `candy_reduced_transpose` DataFrame. Sort this DataFrame in descending order by `net_feelies` and save this as `candy_net_sorted`."
   ]
  },
  {
   "cell_type": "code",
   "execution_count": 464,
   "metadata": {},
   "outputs": [
    {
     "data": {
      "text/html": [
       "<div>\n",
       "<style scoped>\n",
       "    .dataframe tbody tr th:only-of-type {\n",
       "        vertical-align: middle;\n",
       "    }\n",
       "\n",
       "    .dataframe tbody tr th {\n",
       "        vertical-align: top;\n",
       "    }\n",
       "\n",
       "    .dataframe thead th {\n",
       "        text-align: right;\n",
       "    }\n",
       "</style>\n",
       "<table border=\"1\" class=\"dataframe\">\n",
       "  <thead>\n",
       "    <tr style=\"text-align: right;\">\n",
       "      <th></th>\n",
       "      <th>joy_count</th>\n",
       "      <th>despair_count</th>\n",
       "      <th>net_feelies</th>\n",
       "    </tr>\n",
       "  </thead>\n",
       "  <tbody>\n",
       "    <tr>\n",
       "      <th>Q6 | Any full-sized candy bar</th>\n",
       "      <td>1477</td>\n",
       "      <td>15</td>\n",
       "      <td>1462</td>\n",
       "    </tr>\n",
       "    <tr>\n",
       "      <th>Q6 | Reese's Peanut Butter Cups</th>\n",
       "      <td>1416</td>\n",
       "      <td>88</td>\n",
       "      <td>1328</td>\n",
       "    </tr>\n",
       "    <tr>\n",
       "      <th>Q6 | Kit Kat</th>\n",
       "      <td>1367</td>\n",
       "      <td>47</td>\n",
       "      <td>1320</td>\n",
       "    </tr>\n",
       "    <tr>\n",
       "      <th>Q6 | Cash, or other forms of legal tender</th>\n",
       "      <td>1363</td>\n",
       "      <td>63</td>\n",
       "      <td>1300</td>\n",
       "    </tr>\n",
       "    <tr>\n",
       "      <th>Q6 | Twix</th>\n",
       "      <td>1339</td>\n",
       "      <td>67</td>\n",
       "      <td>1272</td>\n",
       "    </tr>\n",
       "    <tr>\n",
       "      <th>...</th>\n",
       "      <td>...</td>\n",
       "      <td>...</td>\n",
       "      <td>...</td>\n",
       "    </tr>\n",
       "    <tr>\n",
       "      <th>Q6 | Dental paraphenalia</th>\n",
       "      <td>84</td>\n",
       "      <td>1356</td>\n",
       "      <td>-1272</td>\n",
       "    </tr>\n",
       "    <tr>\n",
       "      <th>Q6 | Real Housewives of Orange County Season 9 Blue-Ray</th>\n",
       "      <td>86</td>\n",
       "      <td>1398</td>\n",
       "      <td>-1312</td>\n",
       "    </tr>\n",
       "    <tr>\n",
       "      <th>Q6 | White Bread</th>\n",
       "      <td>43</td>\n",
       "      <td>1376</td>\n",
       "      <td>-1333</td>\n",
       "    </tr>\n",
       "    <tr>\n",
       "      <th>Q6 | Gum from baseball cards</th>\n",
       "      <td>43</td>\n",
       "      <td>1386</td>\n",
       "      <td>-1343</td>\n",
       "    </tr>\n",
       "    <tr>\n",
       "      <th>Q6 | Broken glow stick</th>\n",
       "      <td>24</td>\n",
       "      <td>1535</td>\n",
       "      <td>-1511</td>\n",
       "    </tr>\n",
       "  </tbody>\n",
       "</table>\n",
       "<p>103 rows × 3 columns</p>\n",
       "</div>"
      ],
      "text/plain": [
       "                                                    joy_count  despair_count  \\\n",
       "Q6 | Any full-sized candy bar                            1477             15   \n",
       "Q6 | Reese's Peanut Butter Cups                          1416             88   \n",
       "Q6 | Kit Kat                                             1367             47   \n",
       "Q6 | Cash, or other forms of legal tender                1363             63   \n",
       "Q6 | Twix                                                1339             67   \n",
       "...                                                       ...            ...   \n",
       "Q6 | Dental paraphenalia                                   84           1356   \n",
       "Q6 | Real Housewives of Orange County Season 9 ...         86           1398   \n",
       "Q6 | White Bread                                           43           1376   \n",
       "Q6 | Gum from baseball cards                               43           1386   \n",
       "Q6 | Broken glow stick                                     24           1535   \n",
       "\n",
       "                                                    net_feelies  \n",
       "Q6 | Any full-sized candy bar                              1462  \n",
       "Q6 | Reese's Peanut Butter Cups                            1328  \n",
       "Q6 | Kit Kat                                               1320  \n",
       "Q6 | Cash, or other forms of legal tender                  1300  \n",
       "Q6 | Twix                                                  1272  \n",
       "...                                                         ...  \n",
       "Q6 | Dental paraphenalia                                  -1272  \n",
       "Q6 | Real Housewives of Orange County Season 9 ...        -1312  \n",
       "Q6 | White Bread                                          -1333  \n",
       "Q6 | Gum from baseball cards                              -1343  \n",
       "Q6 | Broken glow stick                                    -1511  \n",
       "\n",
       "[103 rows x 3 columns]"
      ]
     },
     "execution_count": 464,
     "metadata": {},
     "output_type": "execute_result"
    }
   ],
   "source": [
    "candy_net_sorted = candy_reduced_transpose[['joy_count', 'despair_count', 'net_feelies']].sort_values(by='net_feelies', ascending=False)\n",
    "candy_net_sorted"
   ]
  },
  {
   "cell_type": "markdown",
   "metadata": {},
   "source": [
    "## Encoding\n",
    "\n",
    "We now want to get the `candy` DataFrame ready to run a machine learning algorthim to determine if we could predict a person's gender based on what candy they prefer.\n",
    "\n",
    "You will learn more about this in the machine learning classes, but some algorithms work exclusively with numeric values. We will now turn all of our values into numeric values.  There are easier ways to do this with sklearn, which you will study in later courses, but we will use Pandas to perform these exercises for further practice."
   ]
  },
  {
   "cell_type": "markdown",
   "metadata": {},
   "source": [
    "**Exercise27:** For grading purposes, we want to leave the `candy` DataFrame as is. Make a copy of the `candy` DataFrame and save this new DataFrame as `candy_encode`."
   ]
  },
  {
   "cell_type": "code",
   "execution_count": 465,
   "metadata": {},
   "outputs": [],
   "source": [
    "candy_encode = candy.copy()"
   ]
  },
  {
   "cell_type": "markdown",
   "metadata": {},
   "source": [
    "**Exercise28:** For the `candy_encode` DataFrame, replace any `Female` values with `0` and any `Male` values with `1`."
   ]
  },
  {
   "cell_type": "code",
   "execution_count": 466,
   "metadata": {},
   "outputs": [
    {
     "data": {
      "text/plain": [
       "0       1\n",
       "1       1\n",
       "2       1\n",
       "3       1\n",
       "4       1\n",
       "       ..\n",
       "2300    1\n",
       "2301    0\n",
       "2302    0\n",
       "2303    1\n",
       "2304    0\n",
       "Name: Q2: GENDER, Length: 2305, dtype: int64"
      ]
     },
     "execution_count": 466,
     "metadata": {},
     "output_type": "execute_result"
    }
   ],
   "source": [
    "candy_encode['Q2: GENDER'] = candy_encode['Q2: GENDER'].replace({'Female': 0, 'Male': 1})\n",
    "candy_encode['Q2: GENDER'] "
   ]
  },
  {
   "cell_type": "markdown",
   "metadata": {},
   "source": [
    "**Exercise29:** Again, you will learn more about this later, but we need to separate the column that we want to predict (called the response) and the columns that we will use to make the predictions (called the features).  **For both of the items below, make sure that the index is reset and goes from 0 to n-1.**\n",
    "\n",
    "- Select only the `Q2: GENDER` column from `candy_encode` and save this as `candy_response`.  **Note: This should be a Series.**\n",
    "- Drop the following columns from the `candy_encode` DataFrame: `Q2: GENDER`,`Q1: GOING OUT?`,`Q3: AGE`,`Q4: COUNTRY`,`Q10: DRESS`,`Q11: DAY`, `Q12: MEDIA [Daily Dish]`,`Q12: MEDIA [Science]`,`Q12: MEDIA [ESPN]`,`Q12: MEDIA [Yahoo]`.  Save the remaining columns as `candy_features`."
   ]
  },
  {
   "cell_type": "code",
   "execution_count": 467,
   "metadata": {},
   "outputs": [],
   "source": [
    "candy_response = candy_encode['Q2: GENDER'].reset_index(drop=True)\n",
    "candy_features = candy_encode.drop(columns=['Q2: GENDER', 'Q1: GOING OUT?', 'Q3: AGE', 'Q4: COUNTRY', 'Q10: DRESS', 'Q11: DAY', 'Q12: MEDIA [Daily Dish]', 'Q12: MEDIA [Science]', 'Q12: MEDIA [ESPN]', 'Q12: MEDIA [Yahoo]']).reset_index(drop=True)"
   ]
  },
  {
   "cell_type": "markdown",
   "metadata": {},
   "source": [
    "**Exercise30:** Use Panda's `get_dummies()` to encode the `candy_features` data, making sure to set `drop_first=True`. Save this as `candy_features_encoded`."
   ]
  },
  {
   "cell_type": "code",
   "execution_count": 468,
   "metadata": {},
   "outputs": [],
   "source": [
    "candy_features_encoded = pd.get_dummies(candy_features, drop_first=True)\n",
    "candy_features_encoded=candy_features_encoded.reset_index(drop=True)"
   ]
  },
  {
   "cell_type": "markdown",
   "metadata": {},
   "source": [
    "**Code Check:** Make sure that the `candy`, `candy_features`, `candy_response` and `candy_features_encoded` have an index that goes from 0 to n-1 or your final CodeGrade tests will not pass."
   ]
  },
  {
   "cell_type": "markdown",
   "metadata": {},
   "source": [
    "## Final Analysis\n",
    "\n",
    "Great work! You have now cleaned your data and prepared it to be passed to a machine learning model.  \n",
    "\n",
    "I created models using Random Forest, Logistic Regression, and XGBoost algorithms, and they all returned around 70% accuracy rates. However, the other accuracy metrics (that you will learn about more in the machine learning classes) didn't look as good. Given the metrics that were calculated, I would say that based only on this data, using candy preference is not that great of an indicator of someone's gender.\n",
    "\n",
    "**Next Steps:**  \n",
    "- Submit your notebook to CodeGrade to check your final DataFrames.  \n",
    "- For those of you that would like more practice using Pandas, try answering these optional questions below. "
   ]
  },
  {
   "cell_type": "markdown",
   "metadata": {},
   "source": [
    "## Optional Data Analysis Questions\n",
    "\n",
    "- How many rows were in the original, uncleaned data that you imported? How many rows are in the cleaned data? How many did we end up removing from the data set?\n",
    "- What percentage of respondents are planning to go out trick-or-treating? \n",
    "- What percentage of respondents 17 and younger are planning to go out for trick-or-treating?\n",
    "- What are the total value counts and the normalized percentages of the age categories from the age column?\n",
    "- What are the total counts and percentages for the gender column?\n",
    "- What are the breakdown of counts for the country column?\n",
    "- How many total respondents voted joy in candy corn and how many voted despair? Did more people vote joy or despair for candy corn?\n",
    "- How many people voted joy in Reese's Peanut Butter Cups? In Snickers? Did more people vote joy for Reese's Peanut Butter Cups or for Snickers?\n",
    "- How many people voted joy in Twix? In Kit Kats? Did more people vote joy for Twix or for Kit Kats?\n",
    "- How many people voted joy in white bread? For whole wheat items? Did more people vote joy for white bread or whole wheat items?\n",
    "- How many people voted joy for Bonkers the board game? For Bonkers the candy? Did more people vote joy for the board game or for the candy?\n",
    "- How many people voted joy for a box of raisins? For the Blue-Ray DVD of the Real Housewives of Orange County Season 9? Did more people vote joy for a box of raisins or for the DVD?\n",
    "- What is the favorite day of the week for the respondents (both by total counts and percentages)?\n",
    "- Do more respondents see 'white and gold' or 'blue and black' for the [color of the dress](https://en.wikipedia.org/wiki/The_dress) (both total counts and percentages)?\n",
    "- For those respondents that clicked on the media link (listed as Q12 columns on the survey), which link did they click on the most?\n",
    "- How many males voted joy for receiving a copy of the Real Housewives of Orange County Season 9 DVD for Halloween? Females? Those 17 or younger?\n",
    "- The authors tried a funny way to determine a respondent's political leaning. Note this was purely a joke and not meant to be scientific. How many total respondents voted joy in the following: Blue M&M's, Red M&M's, Green Party M&M's, Independent M&M's, and Abstained from M&M'ing?\n",
    "- Determine what candy/item from the `candy_reduced` DataFrame has the most number of JOY votes and the least number of JOY votes. \n",
    "- What candy/item has the most DESPAIR votes?\n",
    "- What candy/item has the most MEH votes?\n",
    "- What candy/item did the most people not recognize or have an opinion on? (According to the survey, the respondents were asked to leave a question blank if they did not know the item)"
   ]
  }
 ],
 "metadata": {
  "kernelspec": {
   "display_name": "Python 3",
   "language": "python",
   "name": "python3"
  },
  "language_info": {
   "codemirror_mode": {
    "name": "ipython",
    "version": 3
   },
   "file_extension": ".py",
   "mimetype": "text/x-python",
   "name": "python",
   "nbconvert_exporter": "python",
   "pygments_lexer": "ipython3",
   "version": "3.10.9"
  }
 },
 "nbformat": 4,
 "nbformat_minor": 4
}
